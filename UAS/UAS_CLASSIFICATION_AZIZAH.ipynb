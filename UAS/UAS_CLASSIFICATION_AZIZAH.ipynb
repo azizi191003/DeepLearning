{
  "nbformat": 4,
  "nbformat_minor": 0,
  "metadata": {
    "colab": {
      "provenance": [],
      "gpuType": "T4"
    },
    "kernelspec": {
      "name": "python3",
      "display_name": "Python 3"
    },
    "language_info": {
      "name": "python"
    },
    "accelerator": "GPU"
  },
  "cells": [
    {
      "cell_type": "markdown",
      "metadata": {
        "id": "view-in-github"
      },
      "source": [
        "<a href=\"https://colab.research.google.com/github/atanasiusps/Machine-Learning/blob/main/UAS/UAS_ClassificationModel.ipynb\" target=\"_parent\"><img src=\"https://colab.research.google.com/assets/colab-badge.svg\" alt=\"Open In Colab\"/></a>"
      ]
    },
    {
      "cell_type": "markdown",
      "source": [
        "### Tahap 1 : Memuat dan Menampilkan Dataset"
      ],
      "metadata": {
        "id": "XyJViSXmPNT1"
      }
    },
    {
      "cell_type": "code",
      "execution_count": null,
      "metadata": {
        "colab": {
          "base_uri": "https://localhost:8080/"
        },
        "id": "NumCSwcnONtK",
        "outputId": "a588a8d6-8881-4800-e287-1e3bbb332619"
      },
      "outputs": [
        {
          "output_type": "stream",
          "name": "stdout",
          "text": [
            "Lima baris pertama dari dataset:\n",
            "   Time        V1        V2        V3        V4        V5        V6        V7  \\\n",
            "0     0 -1.359807 -0.072781  2.536347  1.378155 -0.338321  0.462388  0.239599   \n",
            "1     0  1.191857  0.266151  0.166480  0.448154  0.060018 -0.082361 -0.078803   \n",
            "2     1 -1.358354 -1.340163  1.773209  0.379780 -0.503198  1.800499  0.791461   \n",
            "3     1 -0.966272 -0.185226  1.792993 -0.863291 -0.010309  1.247203  0.237609   \n",
            "4     2 -1.158233  0.877737  1.548718  0.403034 -0.407193  0.095921  0.592941   \n",
            "\n",
            "         V8        V9  ...       V21       V22       V23       V24       V25  \\\n",
            "0  0.098698  0.363787  ... -0.018307  0.277838 -0.110474  0.066928  0.128539   \n",
            "1  0.085102 -0.255425  ... -0.225775 -0.638672  0.101288 -0.339846  0.167170   \n",
            "2  0.247676 -1.514654  ...  0.247998  0.771679  0.909412 -0.689281 -0.327642   \n",
            "3  0.377436 -1.387024  ... -0.108300  0.005274 -0.190321 -1.175575  0.647376   \n",
            "4 -0.270533  0.817739  ... -0.009431  0.798278 -0.137458  0.141267 -0.206010   \n",
            "\n",
            "        V26       V27       V28  Amount  Class  \n",
            "0 -0.189115  0.133558 -0.021053  149.62    0.0  \n",
            "1  0.125895 -0.008983  0.014724    2.69    0.0  \n",
            "2 -0.139097 -0.055353 -0.059752  378.66    0.0  \n",
            "3 -0.221929  0.062723  0.061458  123.50    0.0  \n",
            "4  0.502292  0.219422  0.215153   69.99    0.0  \n",
            "\n",
            "[5 rows x 31 columns]\n",
            "\n",
            "Informasi dataset:\n",
            "<class 'pandas.core.frame.DataFrame'>\n",
            "RangeIndex: 51591 entries, 0 to 51590\n",
            "Data columns (total 31 columns):\n",
            " #   Column  Non-Null Count  Dtype  \n",
            "---  ------  --------------  -----  \n",
            " 0   Time    51591 non-null  int64  \n",
            " 1   V1      51591 non-null  float64\n",
            " 2   V2      51591 non-null  float64\n",
            " 3   V3      51591 non-null  float64\n",
            " 4   V4      51591 non-null  float64\n",
            " 5   V5      51591 non-null  float64\n",
            " 6   V6      51591 non-null  float64\n",
            " 7   V7      51591 non-null  float64\n",
            " 8   V8      51591 non-null  float64\n",
            " 9   V9      51591 non-null  float64\n",
            " 10  V10     51591 non-null  float64\n",
            " 11  V11     51590 non-null  float64\n",
            " 12  V12     51590 non-null  float64\n",
            " 13  V13     51590 non-null  float64\n",
            " 14  V14     51590 non-null  float64\n",
            " 15  V15     51590 non-null  float64\n",
            " 16  V16     51590 non-null  float64\n",
            " 17  V17     51590 non-null  float64\n",
            " 18  V18     51590 non-null  float64\n",
            " 19  V19     51590 non-null  float64\n",
            " 20  V20     51590 non-null  float64\n",
            " 21  V21     51590 non-null  float64\n",
            " 22  V22     51590 non-null  float64\n",
            " 23  V23     51590 non-null  float64\n",
            " 24  V24     51590 non-null  float64\n",
            " 25  V25     51590 non-null  float64\n",
            " 26  V26     51590 non-null  float64\n",
            " 27  V27     51590 non-null  float64\n",
            " 28  V28     51590 non-null  float64\n",
            " 29  Amount  51590 non-null  float64\n",
            " 30  Class   51590 non-null  float64\n",
            "dtypes: float64(30), int64(1)\n",
            "memory usage: 12.2 MB\n",
            "None\n",
            "\n",
            "Jumlah nilai yang hilang pada setiap kolom:\n",
            "Time      0\n",
            "V1        0\n",
            "V2        0\n",
            "V3        0\n",
            "V4        0\n",
            "V5        0\n",
            "V6        0\n",
            "V7        0\n",
            "V8        0\n",
            "V9        0\n",
            "V10       0\n",
            "V11       1\n",
            "V12       1\n",
            "V13       1\n",
            "V14       1\n",
            "V15       1\n",
            "V16       1\n",
            "V17       1\n",
            "V18       1\n",
            "V19       1\n",
            "V20       1\n",
            "V21       1\n",
            "V22       1\n",
            "V23       1\n",
            "V24       1\n",
            "V25       1\n",
            "V26       1\n",
            "V27       1\n",
            "V28       1\n",
            "Amount    1\n",
            "Class     1\n",
            "dtype: int64\n",
            "\n",
            "Statistik deskriptif:\n",
            "               Time            V1            V2            V3            V4  \\\n",
            "count  51591.000000  51591.000000  51591.000000  51591.000000  51591.000000   \n",
            "mean   29408.888120     -0.244221      0.003887      0.691974      0.183611   \n",
            "std    13196.047307      1.887998      1.641193      1.498371      1.398830   \n",
            "min        0.000000    -56.407510    -72.715728    -32.965346     -5.172595   \n",
            "25%    22655.500000     -0.993823     -0.570329      0.215237     -0.723584   \n",
            "50%    33767.000000     -0.246892      0.075692      0.793662      0.190588   \n",
            "75%    39498.000000      1.154831      0.731302      1.429386      1.066994   \n",
            "max    45026.000000      1.960497     18.183626      4.101716     16.491217   \n",
            "\n",
            "                 V5            V6            V7            V8            V9  \\\n",
            "count  51591.000000  51591.000000  51591.000000  51591.000000  51591.000000   \n",
            "mean      -0.259039      0.104715     -0.120474      0.054468      0.108449   \n",
            "std        1.413486      1.312673      1.278442      1.216566      1.208872   \n",
            "min      -42.147898    -26.160506    -26.548144    -41.484823     -9.283925   \n",
            "25%       -0.871680     -0.634868     -0.606774     -0.146407     -0.622868   \n",
            "50%       -0.290140     -0.150447     -0.077622      0.059086     -0.000482   \n",
            "75%        0.282184      0.495847      0.424977      0.333436      0.800723   \n",
            "max       34.801666     22.529298     36.677268     20.007208     10.392889   \n",
            "\n",
            "       ...           V21           V22           V23           V24  \\\n",
            "count  ...  51590.000000  51590.000000  51590.000000  51590.000000   \n",
            "mean   ...     -0.028862     -0.106634     -0.039418      0.007995   \n",
            "std    ...      0.732046      0.636907      0.592622      0.595768   \n",
            "min    ...    -20.262054     -8.593642    -26.751119     -2.836627   \n",
            "25%    ...     -0.230767     -0.528352     -0.178719     -0.322127   \n",
            "50%    ...     -0.067054     -0.081866     -0.051550      0.062606   \n",
            "75%    ...      0.108996      0.307826      0.078873      0.401672   \n",
            "max    ...     22.614889      5.805795     17.297845      4.014444   \n",
            "\n",
            "                V25           V26           V27           V28        Amount  \\\n",
            "count  51590.000000  51590.000000  51590.000000  51590.000000  51590.000000   \n",
            "mean       0.135556      0.020305      0.004140      0.003987     94.014363   \n",
            "std        0.438858      0.500884      0.389621      0.332373    253.518524   \n",
            "min       -7.495741     -1.577118     -8.567638     -9.617915      0.000000   \n",
            "25%       -0.128074     -0.330665     -0.063502     -0.006740      7.680000   \n",
            "50%        0.174933     -0.072844      0.008875      0.022241     25.345000   \n",
            "75%        0.421984      0.299365      0.083277      0.076230     86.160000   \n",
            "max        5.525093      3.517346     11.135740     33.847808  12910.930000   \n",
            "\n",
            "              Class  \n",
            "count  51590.000000  \n",
            "mean       0.002908  \n",
            "std        0.053844  \n",
            "min        0.000000  \n",
            "25%        0.000000  \n",
            "50%        0.000000  \n",
            "75%        0.000000  \n",
            "max        1.000000  \n",
            "\n",
            "[8 rows x 31 columns]\n"
          ]
        }
      ],
      "source": [
        "import pandas as pd\n",
        "\n",
        "# Membaca file CSV dengan penanganan baris rusak\n",
        "df = pd.read_csv(\"KlasifikasiUTS.csv\", on_bad_lines='skip', engine='python')\n",
        "\n",
        "# Menampilkan 5 baris pertama dari dataset\n",
        "print(\"Lima baris pertama dari dataset:\")\n",
        "print(df.head())\n",
        "\n",
        "# Menampilkan informasi umum tentang dataset\n",
        "print(\"\\nInformasi dataset:\")\n",
        "print(df.info())\n",
        "\n",
        "# Menampilkan jumlah nilai yang hilang\n",
        "print(\"\\nJumlah nilai yang hilang pada setiap kolom:\")\n",
        "print(df.isnull().sum())\n",
        "\n",
        "# Menampilkan statistik deskriptif\n",
        "print(\"\\nStatistik deskriptif:\")\n",
        "print(df.describe(include='all'))\n"
      ]
    },
    {
      "cell_type": "markdown",
      "source": [
        "### Menghapus Baris yang Kosong"
      ],
      "metadata": {
        "id": "UoR7nKHzQqGm"
      }
    },
    {
      "cell_type": "code",
      "source": [
        "import pandas as pd\n",
        "\n",
        "# Baca ulang file CSV\n",
        "df = pd.read_csv(\"KlasifikasiUTS.csv\", on_bad_lines='skip', engine='python')\n",
        "\n",
        "# Ubah semua kolom ke float (angka), jika gagal jadi NaN\n",
        "for col in df.columns:\n",
        "    df[col] = pd.to_numeric(df[col], errors='coerce')\n",
        "\n",
        "# Tampilkan jumlah missing value\n",
        "print(\"Jumlah nilai yang hilang per kolom:\")\n",
        "print(df.isnull().sum())\n",
        "\n",
        "# Hapus semua baris yang mengandung missing value\n",
        "df_clean = df.dropna()\n",
        "\n",
        "# Tampilkan ukuran dataset setelah dibersihkan\n",
        "print(\"\\nUkuran dataset setelah pembersihan:\", df_clean.shape)\n",
        "\n",
        "# Tampilkan distribusi label target\n",
        "print(\"\\nDistribusi label (Class):\")\n",
        "print(df_clean['Class'].value_counts())\n",
        "\n",
        "# (Opsional) Simpan ke file baru\n",
        "df_clean.to_csv(\"KlasifikasiUTS_clean.csv\", index=False)\n"
      ],
      "metadata": {
        "id": "MQSZQ1l8Qtj1",
        "colab": {
          "base_uri": "https://localhost:8080/"
        },
        "outputId": "c4af7a99-1736-4a79-ced2-9761ba59b6b6"
      },
      "execution_count": null,
      "outputs": [
        {
          "output_type": "stream",
          "name": "stdout",
          "text": [
            "Jumlah nilai yang hilang per kolom:\n",
            "Time      0\n",
            "V1        0\n",
            "V2        0\n",
            "V3        0\n",
            "V4        0\n",
            "V5        0\n",
            "V6        0\n",
            "V7        0\n",
            "V8        0\n",
            "V9        0\n",
            "V10       1\n",
            "V11       1\n",
            "V12       1\n",
            "V13       1\n",
            "V14       1\n",
            "V15       1\n",
            "V16       1\n",
            "V17       1\n",
            "V18       1\n",
            "V19       1\n",
            "V20       1\n",
            "V21       1\n",
            "V22       1\n",
            "V23       1\n",
            "V24       1\n",
            "V25       1\n",
            "V26       1\n",
            "V27       1\n",
            "V28       1\n",
            "Amount    1\n",
            "Class     1\n",
            "dtype: int64\n",
            "\n",
            "Ukuran dataset setelah pembersihan: (63471, 31)\n",
            "\n",
            "Distribusi label (Class):\n",
            "Class\n",
            "0.0    63306\n",
            "1.0      165\n",
            "Name: count, dtype: int64\n"
          ]
        }
      ]
    },
    {
      "cell_type": "markdown",
      "source": [
        "### Feature Engineering\n",
        "Tujuan :    \n",
        "- Normalisasi fitur numerik (StandardScaler).\n",
        "- Encoding fitur kategorikal (jika ada).\n",
        "- Pisahkan data latih dan uji.\n",
        "\n"
      ],
      "metadata": {
        "id": "FIjkDUOVRwL2"
      }
    },
    {
      "cell_type": "code",
      "source": [
        "from sklearn.model_selection import train_test_split\n",
        "from sklearn.preprocessing import StandardScaler, OneHotEncoder\n",
        "from sklearn.compose import ColumnTransformer\n",
        "from sklearn.pipeline import Pipeline\n",
        "from sklearn.impute import SimpleImputer\n",
        "from sklearn.preprocessing import FunctionTransformer\n",
        "import numpy as np\n",
        "\n",
        "X = df.drop(columns=['Class'])\n",
        "y = df['Class']\n",
        "\n",
        "# Cek lagi (kalau belum dilakukan)\n",
        "num_features = X.select_dtypes(include=['float64', 'int64']).columns.tolist()\n",
        "cat_features = X.select_dtypes(include=['object']).columns.tolist()\n",
        "\n",
        "# Pipeline numerik: imputasi + scaling\n",
        "numeric_pipeline = Pipeline(steps=[\n",
        "    (\"scaler\", StandardScaler())\n",
        "])\n",
        "\n",
        "# Pipeline kategorikal (kalau ada)\n",
        "if cat_features:\n",
        "    categorical_pipeline = Pipeline(steps=[\n",
        "        (\"encoder\", OneHotEncoder(handle_unknown=\"ignore\"))\n",
        "    ])\n",
        "\n",
        "    # Gabungkan kedua transformasi\n",
        "    preprocessor = ColumnTransformer(\n",
        "        transformers=[\n",
        "            (\"num\", numeric_pipeline, num_features),\n",
        "            (\"cat\", categorical_pipeline, cat_features)\n",
        "        ])\n",
        "else:\n",
        "    preprocessor = ColumnTransformer(\n",
        "        transformers=[\n",
        "            (\"num\", numeric_pipeline, num_features)\n",
        "        ])\n",
        "\n",
        "# Split data\n",
        "X_train, X_test, y_train, y_test = train_test_split(X, y, test_size=0.2, random_state=42)\n",
        "\n",
        "# Transformasikan data\n",
        "X_train_proc = preprocessor.fit_transform(X_train)\n",
        "X_test_proc = preprocessor.transform(X_test)\n",
        "\n",
        "print(\"Ukuran X_train setelah transformasi:\", X_train_proc.shape)\n",
        "print(\"Ukuran X_test setelah transformasi:\", X_test_proc.shape)\n"
      ],
      "metadata": {
        "id": "wXA5mBm5RMru",
        "colab": {
          "base_uri": "https://localhost:8080/"
        },
        "outputId": "cba1caff-0370-4bb4-ccad-02d22297cc8f"
      },
      "execution_count": null,
      "outputs": [
        {
          "output_type": "stream",
          "name": "stdout",
          "text": [
            "Ukuran X_train setelah transformasi: (50777, 30)\n",
            "Ukuran X_test setelah transformasi: (12695, 30)\n"
          ]
        }
      ]
    },
    {
      "cell_type": "code",
      "source": [
        "import tensorflow as tf\n",
        "from tensorflow.keras import layers, models, regularizers\n",
        "from tensorflow.keras.callbacks import EarlyStopping, ReduceLROnPlateau\n",
        "\n",
        "# Arsitektur model MLP\n",
        "def build_mlp(input_dim):\n",
        "    model = models.Sequential([\n",
        "        layers.Input(shape=(input_dim,)),\n",
        "        layers.Dense(128, activation='relu', kernel_regularizer=regularizers.l2(1e-4)),\n",
        "        layers.BatchNormalization(),\n",
        "        layers.Dropout(0.3),\n",
        "\n",
        "        layers.Dense(64, activation='relu', kernel_regularizer=regularizers.l2(1e-4)),\n",
        "        layers.BatchNormalization(),\n",
        "        layers.Dropout(0.3),\n",
        "\n",
        "        layers.Dense(32, activation='relu'),\n",
        "        layers.Dense(1)  # output regresi\n",
        "    ])\n",
        "    return model\n",
        "\n",
        "# Callback\n",
        "early_stop = EarlyStopping(monitor='val_loss', patience=10, restore_best_weights=True)\n",
        "reduce_lr = ReduceLROnPlateau(monitor='val_loss', factor=0.5, patience=5)\n",
        "\n",
        "# Bangun dan compile model\n",
        "model = build_mlp(X_train.shape[1])\n",
        "model.compile(\n",
        "    optimizer=tf.keras.optimizers.AdamW(learning_rate=1e-3, weight_decay=1e-4),\n",
        "    loss='mse',\n",
        "    metrics=['mae']\n",
        ")\n",
        "\n",
        "# Training\n",
        "history = model.fit(\n",
        "    X_train, y_train,\n",
        "    validation_split=0.2,\n",
        "    epochs=100,\n",
        "    batch_size=64,\n",
        "    callbacks=[early_stop, reduce_lr]\n",
        ")\n"
      ],
      "metadata": {
        "id": "rc9DmttqSZah",
        "colab": {
          "base_uri": "https://localhost:8080/"
        },
        "outputId": "b8dd8f1f-f862-4dd5-f696-87939ae4c8c4"
      },
      "execution_count": null,
      "outputs": [
        {
          "output_type": "stream",
          "name": "stdout",
          "text": [
            "Epoch 1/100\n",
            "\u001b[1m635/635\u001b[0m \u001b[32m━━━━━━━━━━━━━━━━━━━━\u001b[0m\u001b[37m\u001b[0m \u001b[1m11s\u001b[0m 10ms/step - loss: nan - mae: nan - val_loss: nan - val_mae: nan - learning_rate: 0.0010\n",
            "Epoch 2/100\n",
            "\u001b[1m635/635\u001b[0m \u001b[32m━━━━━━━━━━━━━━━━━━━━\u001b[0m\u001b[37m\u001b[0m \u001b[1m2s\u001b[0m 3ms/step - loss: nan - mae: nan - val_loss: nan - val_mae: nan - learning_rate: 0.0010\n",
            "Epoch 3/100\n",
            "\u001b[1m635/635\u001b[0m \u001b[32m━━━━━━━━━━━━━━━━━━━━\u001b[0m\u001b[37m\u001b[0m \u001b[1m2s\u001b[0m 3ms/step - loss: nan - mae: nan - val_loss: nan - val_mae: nan - learning_rate: 0.0010\n",
            "Epoch 4/100\n",
            "\u001b[1m635/635\u001b[0m \u001b[32m━━━━━━━━━━━━━━━━━━━━\u001b[0m\u001b[37m\u001b[0m \u001b[1m2s\u001b[0m 3ms/step - loss: nan - mae: nan - val_loss: nan - val_mae: nan - learning_rate: 0.0010\n",
            "Epoch 5/100\n",
            "\u001b[1m635/635\u001b[0m \u001b[32m━━━━━━━━━━━━━━━━━━━━\u001b[0m\u001b[37m\u001b[0m \u001b[1m2s\u001b[0m 3ms/step - loss: nan - mae: nan - val_loss: nan - val_mae: nan - learning_rate: 0.0010\n",
            "Epoch 6/100\n",
            "\u001b[1m635/635\u001b[0m \u001b[32m━━━━━━━━━━━━━━━━━━━━\u001b[0m\u001b[37m\u001b[0m \u001b[1m3s\u001b[0m 4ms/step - loss: nan - mae: nan - val_loss: nan - val_mae: nan - learning_rate: 5.0000e-04\n",
            "Epoch 7/100\n",
            "\u001b[1m635/635\u001b[0m \u001b[32m━━━━━━━━━━━━━━━━━━━━\u001b[0m\u001b[37m\u001b[0m \u001b[1m5s\u001b[0m 4ms/step - loss: nan - mae: nan - val_loss: nan - val_mae: nan - learning_rate: 5.0000e-04\n",
            "Epoch 8/100\n",
            "\u001b[1m635/635\u001b[0m \u001b[32m━━━━━━━━━━━━━━━━━━━━\u001b[0m\u001b[37m\u001b[0m \u001b[1m2s\u001b[0m 3ms/step - loss: nan - mae: nan - val_loss: nan - val_mae: nan - learning_rate: 5.0000e-04\n",
            "Epoch 9/100\n",
            "\u001b[1m635/635\u001b[0m \u001b[32m━━━━━━━━━━━━━━━━━━━━\u001b[0m\u001b[37m\u001b[0m \u001b[1m3s\u001b[0m 3ms/step - loss: nan - mae: nan - val_loss: nan - val_mae: nan - learning_rate: 5.0000e-04\n",
            "Epoch 10/100\n",
            "\u001b[1m635/635\u001b[0m \u001b[32m━━━━━━━━━━━━━━━━━━━━\u001b[0m\u001b[37m\u001b[0m \u001b[1m3s\u001b[0m 4ms/step - loss: nan - mae: nan - val_loss: nan - val_mae: nan - learning_rate: 5.0000e-04\n",
            "Epoch 11/100\n",
            "\u001b[1m635/635\u001b[0m \u001b[32m━━━━━━━━━━━━━━━━━━━━\u001b[0m\u001b[37m\u001b[0m \u001b[1m2s\u001b[0m 4ms/step - loss: nan - mae: nan - val_loss: nan - val_mae: nan - learning_rate: 2.5000e-04\n"
          ]
        }
      ]
    },
    {
      "cell_type": "markdown",
      "source": [
        "### Penjelasan\n",
        "Training menghasilkan NaN (Not a Number) karena ada masalah dalam input atau target yang menyebabkan perhitungan loss menjadi tak terdefinisi.\n",
        "\n",
        "Penyebab umum :    \n",
        "1. Nilai NaN atau Inf di X_train atau y_train.\n",
        "2. Distribusi nilai ekstrem (outlier besar), khususnya jika target (y_train) tidak diskalakan.\n",
        "3. Learning rate terlalu besar (jarang dengan AdamW default 1e-3, tapi tetap bisa terjadi jika data tidak distandardisasi).\n",
        "4. Loss function tidak cocok, tapi ini jarang untuk regresi (mse aman)."
      ],
      "metadata": {
        "id": "JX0AHzu4V7rE"
      }
    },
    {
      "cell_type": "markdown",
      "source": [
        "### Pengecekan nilai NaN/Inf"
      ],
      "metadata": {
        "id": "BXl86T_zWKsc"
      }
    },
    {
      "cell_type": "code",
      "source": [
        "import numpy as np\n",
        "\n",
        "print(\"NaN di X_train:\", np.any(np.isnan(X_train)))\n",
        "print(\"Inf di X_train:\", np.any(np.isinf(X_train)))\n",
        "print(\"NaN di y_train:\", np.any(np.isnan(y_train)))\n",
        "print(\"Inf di y_train:\", np.any(np.isinf(y_train)))\n"
      ],
      "metadata": {
        "id": "yYPXXq24TTUo",
        "colab": {
          "base_uri": "https://localhost:8080/"
        },
        "outputId": "05d90929-ee8a-4d4f-f5f7-16b5963ba675"
      },
      "execution_count": null,
      "outputs": [
        {
          "output_type": "stream",
          "name": "stdout",
          "text": [
            "NaN di X_train: True\n",
            "Inf di X_train: False\n",
            "NaN di y_train: True\n",
            "Inf di y_train: False\n"
          ]
        }
      ]
    },
    {
      "cell_type": "markdown",
      "source": [
        "### Penjelasan\n",
        "X_train maupun y_train memiliki nilai NaN, oleh sebab itu perlu dilakukan penghapusan baris yang bermasalah"
      ],
      "metadata": {
        "id": "5OcAmVifWRo4"
      }
    },
    {
      "cell_type": "markdown",
      "source": [
        "### Menghapus baris yang mengandung NaN"
      ],
      "metadata": {
        "id": "Rzq4UN2OWj99"
      }
    },
    {
      "cell_type": "code",
      "source": [
        "import pandas as pd\n",
        "import numpy as np\n",
        "\n",
        "# Gabungkan X dan y untuk drop baris yang NaN di salah satu\n",
        "train_data = pd.DataFrame(X_train)\n",
        "train_data['target'] = y_train\n",
        "\n",
        "# Drop baris yang punya NaN\n",
        "train_data_clean = train_data.dropna()\n",
        "\n",
        "# Pisahkan kembali\n",
        "X_train_clean = train_data_clean.drop('target', axis=1).values\n",
        "y_train_clean = train_data_clean['target'].values\n"
      ],
      "metadata": {
        "id": "r4_w85pTWQDR"
      },
      "execution_count": null,
      "outputs": []
    },
    {
      "cell_type": "markdown",
      "source": [
        "### Standarisasi Target"
      ],
      "metadata": {
        "id": "ACq_7Nw5WwJJ"
      }
    },
    {
      "cell_type": "code",
      "source": [
        "from sklearn.preprocessing import StandardScaler\n",
        "\n",
        "scaler_y = StandardScaler()\n",
        "y_train_scaled = scaler_y.fit_transform(y_train_clean.reshape(-1, 1)).flatten()\n"
      ],
      "metadata": {
        "id": "PZm4NJUgWu9-"
      },
      "execution_count": null,
      "outputs": []
    },
    {
      "cell_type": "markdown",
      "source": [
        "### Pengecekan Ulang"
      ],
      "metadata": {
        "id": "aI8-HtPSW91O"
      }
    },
    {
      "cell_type": "code",
      "source": [
        "print(\"NaN di y_train_scaled:\", np.isnan(y_train_scaled).any())\n",
        "print(\"Inf di y_train_scaled:\", np.isinf(y_train_scaled).any())\n"
      ],
      "metadata": {
        "id": "i1MvkeZtWz-t",
        "colab": {
          "base_uri": "https://localhost:8080/"
        },
        "outputId": "012b427e-d12a-4152-b8e9-4fcf8846ca41"
      },
      "execution_count": null,
      "outputs": [
        {
          "output_type": "stream",
          "name": "stdout",
          "text": [
            "NaN di y_train_scaled: False\n",
            "Inf di y_train_scaled: False\n"
          ]
        }
      ]
    },
    {
      "cell_type": "markdown",
      "source": [
        "### Penjelasan\n",
        "y_train sudah tidak mengandung nilai Nan ataupun Inf. Tahap selanjutnya adalah periksa kemungkinan sumber masalah dari X_train_scaled dan model."
      ],
      "metadata": {
        "id": "poy_DKwZXGw3"
      }
    },
    {
      "cell_type": "markdown",
      "source": [
        "### Cek NaN/Inf di X_train_scaled"
      ],
      "metadata": {
        "id": "5NgEFmf9XRUw"
      }
    },
    {
      "cell_type": "code",
      "source": [
        "from sklearn.preprocessing import StandardScaler\n",
        "\n",
        "scaler = StandardScaler()\n",
        "X_train_scaled = scaler.fit_transform(X_train)\n",
        "X_test_scaled = scaler.transform(X_test)\n",
        "\n",
        "# Target juga, jika perlu:\n",
        "y_scaler = StandardScaler()\n",
        "y_train_scaled = y_scaler.fit_transform(y_train.values.reshape(-1, 1))\n",
        "y_test_scaled = y_scaler.transform(y_test.values.reshape(-1, 1))\n"
      ],
      "metadata": {
        "id": "J2NY7wtPXdi1"
      },
      "execution_count": null,
      "outputs": []
    },
    {
      "cell_type": "code",
      "source": [
        "print(\"NaN di X_train_scaled:\", np.isnan(X_train_scaled).any())\n",
        "print(\"Inf di X_train_scaled:\", np.isinf(X_train_scaled).any())\n"
      ],
      "metadata": {
        "id": "k9q0suKEXBQa",
        "colab": {
          "base_uri": "https://localhost:8080/"
        },
        "outputId": "7be25e64-affb-40f8-e9ed-86833970be80"
      },
      "execution_count": null,
      "outputs": [
        {
          "output_type": "stream",
          "name": "stdout",
          "text": [
            "NaN di X_train_scaled: True\n",
            "Inf di X_train_scaled: False\n"
          ]
        }
      ]
    },
    {
      "cell_type": "markdown",
      "source": [
        "### Penjelasan    \n",
        "X_train_scaled masih mengandung NaN, artinya proses standarisasi (StandardScaler) gagal karena X_train masih mengandung NaN juga."
      ],
      "metadata": {
        "id": "DjLyq03xXlA1"
      }
    },
    {
      "cell_type": "markdown",
      "source": [
        "### Menghapus seluruh baris NaN"
      ],
      "metadata": {
        "id": "RjmvjfgRXrrR"
      }
    },
    {
      "cell_type": "code",
      "source": [
        "print(df.dtypes)"
      ],
      "metadata": {
        "id": "hmBj6ptCYSKG",
        "colab": {
          "base_uri": "https://localhost:8080/"
        },
        "outputId": "ea22b9f6-c823-45e6-d119-7245ef04e043"
      },
      "execution_count": null,
      "outputs": [
        {
          "output_type": "stream",
          "name": "stdout",
          "text": [
            "Time        int64\n",
            "V1        float64\n",
            "V2        float64\n",
            "V3        float64\n",
            "V4        float64\n",
            "V5        float64\n",
            "V6        float64\n",
            "V7        float64\n",
            "V8        float64\n",
            "V9        float64\n",
            "V10       float64\n",
            "V11       float64\n",
            "V12       float64\n",
            "V13       float64\n",
            "V14       float64\n",
            "V15       float64\n",
            "V16       float64\n",
            "V17       float64\n",
            "V18       float64\n",
            "V19       float64\n",
            "V20       float64\n",
            "V21       float64\n",
            "V22       float64\n",
            "V23       float64\n",
            "V24       float64\n",
            "V25       float64\n",
            "V26       float64\n",
            "V27       float64\n",
            "V28       float64\n",
            "Amount    float64\n",
            "Class     float64\n",
            "dtype: object\n"
          ]
        }
      ]
    },
    {
      "cell_type": "code",
      "source": [
        "target_col = \"Amount\"\n",
        "\n",
        "# 1. Drop semua baris dengan NaN\n",
        "df_cleaned = df.dropna()\n",
        "\n",
        "# 2. Pisahkan X dan y\n",
        "X = df_cleaned.drop(columns=[target_col])\n",
        "y = df_cleaned[target_col]\n",
        "\n",
        "# 3. Split train-test\n",
        "from sklearn.model_selection import train_test_split\n",
        "X_train, X_test, y_train, y_test = train_test_split(X, y, test_size=0.2, random_state=42)\n",
        "\n",
        "# 4. Standarisasi\n",
        "from sklearn.preprocessing import StandardScaler\n",
        "\n",
        "scaler = StandardScaler()\n",
        "X_train_scaled = scaler.fit_transform(X_train)\n",
        "X_test_scaled = scaler.transform(X_test)\n",
        "\n",
        "y_scaler = StandardScaler()\n",
        "y_train_scaled = y_scaler.fit_transform(y_train.values.reshape(-1, 1))\n",
        "y_test_scaled = y_scaler.transform(y_test.values.reshape(-1, 1))\n"
      ],
      "metadata": {
        "id": "l1gQBvFzXVi3"
      },
      "execution_count": null,
      "outputs": []
    },
    {
      "cell_type": "markdown",
      "source": [
        "---\n",
        "### === PERBAIKAN DATASET SELESAI ==="
      ],
      "metadata": {
        "id": "ky-101z-zH4E"
      }
    },
    {
      "cell_type": "markdown",
      "source": [
        "### Tahap 2 : Buat Label Klasifikasi Dari Target Kontinu"
      ],
      "metadata": {
        "id": "Cqw64wFIYhqU"
      }
    },
    {
      "cell_type": "code",
      "source": [
        "import numpy as np\n",
        "\n",
        "# Buat threshold dari nilai median y_train\n",
        "threshold = np.median(y_train)\n",
        "\n",
        "# Konversi menjadi kelas 0/1 berdasarkan threshold\n",
        "y_train_class = (y_train > threshold).astype(int)\n",
        "y_test_class = (y_test > threshold).astype(int)\n",
        "\n",
        "print(\"Threshold:\", threshold)\n",
        "print(\"Contoh y_train_class:\", y_train_class[:10])\n"
      ],
      "metadata": {
        "id": "4lJYQslQctmK",
        "colab": {
          "base_uri": "https://localhost:8080/"
        },
        "outputId": "3e885cfe-ef89-4cdc-9428-15a8b422a341"
      },
      "execution_count": null,
      "outputs": [
        {
          "output_type": "stream",
          "name": "stdout",
          "text": [
            "Threshold: 26.515\n",
            "Contoh y_train_class: 3862     0\n",
            "54817    1\n",
            "21201    0\n",
            "30619    1\n",
            "5878     1\n",
            "27708    0\n",
            "24108    0\n",
            "60260    1\n",
            "5306     1\n",
            "3150     0\n",
            "Name: Amount, dtype: int64\n"
          ]
        }
      ]
    },
    {
      "cell_type": "markdown",
      "source": [
        "### Tahap 3 : Bangun model klasifikasi MLP di *Tensorflow*"
      ],
      "metadata": {
        "id": "wqy6cZ45dPjx"
      }
    },
    {
      "cell_type": "code",
      "source": [
        "import tensorflow as tf\n",
        "from tensorflow.keras import layers, regularizers, callbacks\n",
        "\n",
        "# Input shape\n",
        "input_shape = X_train_scaled.shape[1]\n",
        "\n",
        "# Model klasifikasi\n",
        "model = tf.keras.Sequential([\n",
        "    layers.Input(shape=(input_shape,)),\n",
        "    layers.Dense(128, activation='relu', kernel_regularizer=regularizers.l2(1e-4)),\n",
        "    layers.BatchNormalization(),\n",
        "    layers.Dropout(0.3),\n",
        "\n",
        "    layers.Dense(64, activation='relu', kernel_regularizer=regularizers.l2(1e-4)),\n",
        "    layers.BatchNormalization(),\n",
        "    layers.Dropout(0.3),\n",
        "\n",
        "    layers.Dense(32, activation='relu', kernel_regularizer=regularizers.l2(1e-4)),\n",
        "    layers.BatchNormalization(),\n",
        "\n",
        "    layers.Dense(1, activation='sigmoid')  # sigmoid untuk klasifikasi biner\n",
        "])\n"
      ],
      "metadata": {
        "id": "ofioY9SEc_-g"
      },
      "execution_count": null,
      "outputs": []
    },
    {
      "cell_type": "markdown",
      "source": [
        "### Tahap 4 : Kompilasi dan Training Model Klasifikasi"
      ],
      "metadata": {
        "id": "_BcuB8yCdW48"
      }
    },
    {
      "cell_type": "code",
      "source": [
        "model.compile(\n",
        "    optimizer=tf.keras.optimizers.Adam(learning_rate=1e-3),\n",
        "    loss='binary_crossentropy',\n",
        "    metrics=['accuracy', tf.keras.metrics.AUC(name='auc')]\n",
        ")\n"
      ],
      "metadata": {
        "id": "X6WSBbZEdB5L"
      },
      "execution_count": null,
      "outputs": []
    },
    {
      "cell_type": "code",
      "source": [
        "early_stop = callbacks.EarlyStopping(monitor='val_loss', patience=10, restore_best_weights=True)\n",
        "reduce_lr = callbacks.ReduceLROnPlateau(monitor='val_loss', factor=0.5, patience=5, verbose=1)\n"
      ],
      "metadata": {
        "id": "a2eqG87hdakz"
      },
      "execution_count": null,
      "outputs": []
    },
    {
      "cell_type": "code",
      "source": [
        "history = model.fit(\n",
        "    X_train_scaled, y_train_class,\n",
        "    validation_split=0.2,\n",
        "    epochs=100,\n",
        "    batch_size=32,\n",
        "    callbacks=[early_stop, reduce_lr],\n",
        "    verbose=1\n",
        ")\n"
      ],
      "metadata": {
        "id": "tH9ZfP0hdbnj",
        "colab": {
          "base_uri": "https://localhost:8080/"
        },
        "outputId": "58830be8-ccf2-418d-b992-0829e9d1c5e9"
      },
      "execution_count": null,
      "outputs": [
        {
          "output_type": "stream",
          "name": "stdout",
          "text": [
            "Epoch 1/100\n",
            "\u001b[1m1270/1270\u001b[0m \u001b[32m━━━━━━━━━━━━━━━━━━━━\u001b[0m\u001b[37m\u001b[0m \u001b[1m15s\u001b[0m 8ms/step - accuracy: 0.6937 - auc: 0.7588 - loss: 0.6073 - val_accuracy: 0.9226 - val_auc: 0.9803 - val_loss: 0.2168 - learning_rate: 0.0010\n",
            "Epoch 2/100\n",
            "\u001b[1m1270/1270\u001b[0m \u001b[32m━━━━━━━━━━━━━━━━━━━━\u001b[0m\u001b[37m\u001b[0m \u001b[1m12s\u001b[0m 3ms/step - accuracy: 0.8963 - auc: 0.9643 - loss: 0.2587 - val_accuracy: 0.9516 - val_auc: 0.9924 - val_loss: 0.1384 - learning_rate: 0.0010\n",
            "Epoch 3/100\n",
            "\u001b[1m1270/1270\u001b[0m \u001b[32m━━━━━━━━━━━━━━━━━━━━\u001b[0m\u001b[37m\u001b[0m \u001b[1m5s\u001b[0m 3ms/step - accuracy: 0.9310 - auc: 0.9828 - loss: 0.1859 - val_accuracy: 0.9600 - val_auc: 0.9954 - val_loss: 0.1123 - learning_rate: 0.0010\n",
            "Epoch 4/100\n",
            "\u001b[1m1270/1270\u001b[0m \u001b[32m━━━━━━━━━━━━━━━━━━━━\u001b[0m\u001b[37m\u001b[0m \u001b[1m5s\u001b[0m 4ms/step - accuracy: 0.9398 - auc: 0.9866 - loss: 0.1650 - val_accuracy: 0.9580 - val_auc: 0.9949 - val_loss: 0.1175 - learning_rate: 0.0010\n",
            "Epoch 5/100\n",
            "\u001b[1m1270/1270\u001b[0m \u001b[32m━━━━━━━━━━━━━━━━━━━━\u001b[0m\u001b[37m\u001b[0m \u001b[1m4s\u001b[0m 3ms/step - accuracy: 0.9427 - auc: 0.9871 - loss: 0.1609 - val_accuracy: 0.9623 - val_auc: 0.9958 - val_loss: 0.1056 - learning_rate: 0.0010\n",
            "Epoch 6/100\n",
            "\u001b[1m1270/1270\u001b[0m \u001b[32m━━━━━━━━━━━━━━━━━━━━\u001b[0m\u001b[37m\u001b[0m \u001b[1m6s\u001b[0m 4ms/step - accuracy: 0.9430 - auc: 0.9882 - loss: 0.1553 - val_accuracy: 0.9663 - val_auc: 0.9967 - val_loss: 0.1029 - learning_rate: 0.0010\n",
            "Epoch 7/100\n",
            "\u001b[1m1270/1270\u001b[0m \u001b[32m━━━━━━━━━━━━━━━━━━━━\u001b[0m\u001b[37m\u001b[0m \u001b[1m4s\u001b[0m 3ms/step - accuracy: 0.9477 - auc: 0.9893 - loss: 0.1469 - val_accuracy: 0.9691 - val_auc: 0.9969 - val_loss: 0.0963 - learning_rate: 0.0010\n",
            "Epoch 8/100\n",
            "\u001b[1m1270/1270\u001b[0m \u001b[32m━━━━━━━━━━━━━━━━━━━━\u001b[0m\u001b[37m\u001b[0m \u001b[1m6s\u001b[0m 4ms/step - accuracy: 0.9513 - auc: 0.9907 - loss: 0.1378 - val_accuracy: 0.9716 - val_auc: 0.9972 - val_loss: 0.0911 - learning_rate: 0.0010\n",
            "Epoch 9/100\n",
            "\u001b[1m1270/1270\u001b[0m \u001b[32m━━━━━━━━━━━━━━━━━━━━\u001b[0m\u001b[37m\u001b[0m \u001b[1m5s\u001b[0m 4ms/step - accuracy: 0.9512 - auc: 0.9903 - loss: 0.1395 - val_accuracy: 0.9646 - val_auc: 0.9959 - val_loss: 0.1041 - learning_rate: 0.0010\n",
            "Epoch 10/100\n",
            "\u001b[1m1270/1270\u001b[0m \u001b[32m━━━━━━━━━━━━━━━━━━━━\u001b[0m\u001b[37m\u001b[0m \u001b[1m10s\u001b[0m 4ms/step - accuracy: 0.9553 - auc: 0.9920 - loss: 0.1283 - val_accuracy: 0.9738 - val_auc: 0.9973 - val_loss: 0.0891 - learning_rate: 0.0010\n",
            "Epoch 11/100\n",
            "\u001b[1m1270/1270\u001b[0m \u001b[32m━━━━━━━━━━━━━━━━━━━━\u001b[0m\u001b[37m\u001b[0m \u001b[1m4s\u001b[0m 3ms/step - accuracy: 0.9574 - auc: 0.9926 - loss: 0.1238 - val_accuracy: 0.9645 - val_auc: 0.9971 - val_loss: 0.1048 - learning_rate: 0.0010\n",
            "Epoch 12/100\n",
            "\u001b[1m1270/1270\u001b[0m \u001b[32m━━━━━━━━━━━━━━━━━━━━\u001b[0m\u001b[37m\u001b[0m \u001b[1m5s\u001b[0m 3ms/step - accuracy: 0.9586 - auc: 0.9930 - loss: 0.1198 - val_accuracy: 0.9671 - val_auc: 0.9960 - val_loss: 0.1012 - learning_rate: 0.0010\n",
            "Epoch 13/100\n",
            "\u001b[1m1270/1270\u001b[0m \u001b[32m━━━━━━━━━━━━━━━━━━━━\u001b[0m\u001b[37m\u001b[0m \u001b[1m5s\u001b[0m 4ms/step - accuracy: 0.9594 - auc: 0.9931 - loss: 0.1188 - val_accuracy: 0.9655 - val_auc: 0.9962 - val_loss: 0.0975 - learning_rate: 0.0010\n",
            "Epoch 14/100\n",
            "\u001b[1m1270/1270\u001b[0m \u001b[32m━━━━━━━━━━━━━━━━━━━━\u001b[0m\u001b[37m\u001b[0m \u001b[1m5s\u001b[0m 3ms/step - accuracy: 0.9591 - auc: 0.9930 - loss: 0.1200 - val_accuracy: 0.9714 - val_auc: 0.9974 - val_loss: 0.0879 - learning_rate: 0.0010\n",
            "Epoch 15/100\n",
            "\u001b[1m1270/1270\u001b[0m \u001b[32m━━━━━━━━━━━━━━━━━━━━\u001b[0m\u001b[37m\u001b[0m \u001b[1m6s\u001b[0m 4ms/step - accuracy: 0.9616 - auc: 0.9938 - loss: 0.1134 - val_accuracy: 0.9604 - val_auc: 0.9970 - val_loss: 0.1152 - learning_rate: 0.0010\n",
            "Epoch 16/100\n",
            "\u001b[1m1270/1270\u001b[0m \u001b[32m━━━━━━━━━━━━━━━━━━━━\u001b[0m\u001b[37m\u001b[0m \u001b[1m5s\u001b[0m 4ms/step - accuracy: 0.9587 - auc: 0.9931 - loss: 0.1197 - val_accuracy: 0.9717 - val_auc: 0.9975 - val_loss: 0.0857 - learning_rate: 0.0010\n",
            "Epoch 17/100\n",
            "\u001b[1m1270/1270\u001b[0m \u001b[32m━━━━━━━━━━━━━━━━━━━━\u001b[0m\u001b[37m\u001b[0m \u001b[1m5s\u001b[0m 4ms/step - accuracy: 0.9612 - auc: 0.9939 - loss: 0.1140 - val_accuracy: 0.9710 - val_auc: 0.9965 - val_loss: 0.0955 - learning_rate: 0.0010\n",
            "Epoch 18/100\n",
            "\u001b[1m1270/1270\u001b[0m \u001b[32m━━━━━━━━━━━━━━━━━━━━\u001b[0m\u001b[37m\u001b[0m \u001b[1m5s\u001b[0m 4ms/step - accuracy: 0.9628 - auc: 0.9938 - loss: 0.1128 - val_accuracy: 0.9756 - val_auc: 0.9980 - val_loss: 0.0840 - learning_rate: 0.0010\n",
            "Epoch 19/100\n",
            "\u001b[1m1270/1270\u001b[0m \u001b[32m━━━━━━━━━━━━━━━━━━━━\u001b[0m\u001b[37m\u001b[0m \u001b[1m4s\u001b[0m 3ms/step - accuracy: 0.9622 - auc: 0.9941 - loss: 0.1111 - val_accuracy: 0.9749 - val_auc: 0.9977 - val_loss: 0.0799 - learning_rate: 0.0010\n",
            "Epoch 20/100\n",
            "\u001b[1m1270/1270\u001b[0m \u001b[32m━━━━━━━━━━━━━━━━━━━━\u001b[0m\u001b[37m\u001b[0m \u001b[1m5s\u001b[0m 4ms/step - accuracy: 0.9626 - auc: 0.9944 - loss: 0.1084 - val_accuracy: 0.9683 - val_auc: 0.9975 - val_loss: 0.0926 - learning_rate: 0.0010\n",
            "Epoch 21/100\n",
            "\u001b[1m1270/1270\u001b[0m \u001b[32m━━━━━━━━━━━━━━━━━━━━\u001b[0m\u001b[37m\u001b[0m \u001b[1m4s\u001b[0m 3ms/step - accuracy: 0.9655 - auc: 0.9950 - loss: 0.1025 - val_accuracy: 0.9707 - val_auc: 0.9969 - val_loss: 0.0959 - learning_rate: 0.0010\n",
            "Epoch 22/100\n",
            "\u001b[1m1270/1270\u001b[0m \u001b[32m━━━━━━━━━━━━━━━━━━━━\u001b[0m\u001b[37m\u001b[0m \u001b[1m5s\u001b[0m 3ms/step - accuracy: 0.9642 - auc: 0.9945 - loss: 0.1067 - val_accuracy: 0.9693 - val_auc: 0.9976 - val_loss: 0.0926 - learning_rate: 0.0010\n",
            "Epoch 23/100\n",
            "\u001b[1m1270/1270\u001b[0m \u001b[32m━━━━━━━━━━━━━━━━━━━━\u001b[0m\u001b[37m\u001b[0m \u001b[1m5s\u001b[0m 4ms/step - accuracy: 0.9663 - auc: 0.9952 - loss: 0.1017 - val_accuracy: 0.9714 - val_auc: 0.9975 - val_loss: 0.0846 - learning_rate: 0.0010\n",
            "Epoch 24/100\n",
            "\u001b[1m1270/1270\u001b[0m \u001b[32m━━━━━━━━━━━━━━━━━━━━\u001b[0m\u001b[37m\u001b[0m \u001b[1m5s\u001b[0m 4ms/step - accuracy: 0.9658 - auc: 0.9954 - loss: 0.0993 - val_accuracy: 0.9781 - val_auc: 0.9985 - val_loss: 0.0740 - learning_rate: 0.0010\n",
            "Epoch 25/100\n",
            "\u001b[1m1270/1270\u001b[0m \u001b[32m━━━━━━━━━━━━━━━━━━━━\u001b[0m\u001b[37m\u001b[0m \u001b[1m5s\u001b[0m 4ms/step - accuracy: 0.9671 - auc: 0.9955 - loss: 0.0981 - val_accuracy: 0.9747 - val_auc: 0.9977 - val_loss: 0.0819 - learning_rate: 0.0010\n",
            "Epoch 26/100\n",
            "\u001b[1m1270/1270\u001b[0m \u001b[32m━━━━━━━━━━━━━━━━━━━━\u001b[0m\u001b[37m\u001b[0m \u001b[1m5s\u001b[0m 4ms/step - accuracy: 0.9671 - auc: 0.9957 - loss: 0.0972 - val_accuracy: 0.9691 - val_auc: 0.9977 - val_loss: 0.0935 - learning_rate: 0.0010\n",
            "Epoch 27/100\n",
            "\u001b[1m1270/1270\u001b[0m \u001b[32m━━━━━━━━━━━━━━━━━━━━\u001b[0m\u001b[37m\u001b[0m \u001b[1m5s\u001b[0m 3ms/step - accuracy: 0.9669 - auc: 0.9955 - loss: 0.0984 - val_accuracy: 0.9714 - val_auc: 0.9978 - val_loss: 0.0884 - learning_rate: 0.0010\n",
            "Epoch 28/100\n",
            "\u001b[1m1270/1270\u001b[0m \u001b[32m━━━━━━━━━━━━━━━━━━━━\u001b[0m\u001b[37m\u001b[0m \u001b[1m6s\u001b[0m 4ms/step - accuracy: 0.9681 - auc: 0.9957 - loss: 0.0978 - val_accuracy: 0.9761 - val_auc: 0.9978 - val_loss: 0.0815 - learning_rate: 0.0010\n",
            "Epoch 29/100\n",
            "\u001b[1m1269/1270\u001b[0m \u001b[32m━━━━━━━━━━━━━━━━━━━\u001b[0m\u001b[37m━\u001b[0m \u001b[1m0s\u001b[0m 3ms/step - accuracy: 0.9679 - auc: 0.9958 - loss: 0.0962\n",
            "Epoch 29: ReduceLROnPlateau reducing learning rate to 0.0005000000237487257.\n",
            "\u001b[1m1270/1270\u001b[0m \u001b[32m━━━━━━━━━━━━━━━━━━━━\u001b[0m\u001b[37m\u001b[0m \u001b[1m5s\u001b[0m 3ms/step - accuracy: 0.9679 - auc: 0.9958 - loss: 0.0962 - val_accuracy: 0.9743 - val_auc: 0.9981 - val_loss: 0.0796 - learning_rate: 0.0010\n",
            "Epoch 30/100\n",
            "\u001b[1m1270/1270\u001b[0m \u001b[32m━━━━━━━━━━━━━━━━━━━━\u001b[0m\u001b[37m\u001b[0m \u001b[1m5s\u001b[0m 4ms/step - accuracy: 0.9720 - auc: 0.9967 - loss: 0.0859 - val_accuracy: 0.9822 - val_auc: 0.9990 - val_loss: 0.0611 - learning_rate: 5.0000e-04\n",
            "Epoch 31/100\n",
            "\u001b[1m1270/1270\u001b[0m \u001b[32m━━━━━━━━━━━━━━━━━━━━\u001b[0m\u001b[37m\u001b[0m \u001b[1m5s\u001b[0m 4ms/step - accuracy: 0.9741 - auc: 0.9969 - loss: 0.0830 - val_accuracy: 0.9805 - val_auc: 0.9990 - val_loss: 0.0631 - learning_rate: 5.0000e-04\n",
            "Epoch 32/100\n",
            "\u001b[1m1270/1270\u001b[0m \u001b[32m━━━━━━━━━━━━━━━━━━━━\u001b[0m\u001b[37m\u001b[0m \u001b[1m4s\u001b[0m 3ms/step - accuracy: 0.9765 - auc: 0.9975 - loss: 0.0747 - val_accuracy: 0.9812 - val_auc: 0.9989 - val_loss: 0.0612 - learning_rate: 5.0000e-04\n",
            "Epoch 33/100\n",
            "\u001b[1m1270/1270\u001b[0m \u001b[32m━━━━━━━━━━━━━━━━━━━━\u001b[0m\u001b[37m\u001b[0m \u001b[1m5s\u001b[0m 4ms/step - accuracy: 0.9769 - auc: 0.9977 - loss: 0.0741 - val_accuracy: 0.9781 - val_auc: 0.9989 - val_loss: 0.0660 - learning_rate: 5.0000e-04\n",
            "Epoch 34/100\n",
            "\u001b[1m1270/1270\u001b[0m \u001b[32m━━━━━━━━━━━━━━━━━━━━\u001b[0m\u001b[37m\u001b[0m \u001b[1m5s\u001b[0m 4ms/step - accuracy: 0.9789 - auc: 0.9982 - loss: 0.0688 - val_accuracy: 0.9782 - val_auc: 0.9980 - val_loss: 0.0737 - learning_rate: 5.0000e-04\n",
            "Epoch 35/100\n",
            "\u001b[1m1270/1270\u001b[0m \u001b[32m━━━━━━━━━━━━━━━━━━━━\u001b[0m\u001b[37m\u001b[0m \u001b[1m5s\u001b[0m 4ms/step - accuracy: 0.9783 - auc: 0.9975 - loss: 0.0727 - val_accuracy: 0.9804 - val_auc: 0.9991 - val_loss: 0.0605 - learning_rate: 5.0000e-04\n",
            "Epoch 36/100\n",
            "\u001b[1m1270/1270\u001b[0m \u001b[32m━━━━━━━━━━━━━━━━━━━━\u001b[0m\u001b[37m\u001b[0m \u001b[1m4s\u001b[0m 3ms/step - accuracy: 0.9756 - auc: 0.9976 - loss: 0.0728 - val_accuracy: 0.9820 - val_auc: 0.9990 - val_loss: 0.0634 - learning_rate: 5.0000e-04\n",
            "Epoch 37/100\n",
            "\u001b[1m1270/1270\u001b[0m \u001b[32m━━━━━━━━━━━━━━━━━━━━\u001b[0m\u001b[37m\u001b[0m \u001b[1m4s\u001b[0m 3ms/step - accuracy: 0.9772 - auc: 0.9979 - loss: 0.0718 - val_accuracy: 0.9817 - val_auc: 0.9989 - val_loss: 0.0631 - learning_rate: 5.0000e-04\n",
            "Epoch 38/100\n",
            "\u001b[1m1270/1270\u001b[0m \u001b[32m━━━━━━━━━━━━━━━━━━━━\u001b[0m\u001b[37m\u001b[0m \u001b[1m5s\u001b[0m 4ms/step - accuracy: 0.9783 - auc: 0.9979 - loss: 0.0684 - val_accuracy: 0.9808 - val_auc: 0.9989 - val_loss: 0.0630 - learning_rate: 5.0000e-04\n",
            "Epoch 39/100\n",
            "\u001b[1m1270/1270\u001b[0m \u001b[32m━━━━━━━━━━━━━━━━━━━━\u001b[0m\u001b[37m\u001b[0m \u001b[1m4s\u001b[0m 3ms/step - accuracy: 0.9784 - auc: 0.9980 - loss: 0.0670 - val_accuracy: 0.9742 - val_auc: 0.9987 - val_loss: 0.0796 - learning_rate: 5.0000e-04\n",
            "Epoch 40/100\n",
            "\u001b[1m1258/1270\u001b[0m \u001b[32m━━━━━━━━━━━━━━━━━━━\u001b[0m\u001b[37m━\u001b[0m \u001b[1m0s\u001b[0m 3ms/step - accuracy: 0.9789 - auc: 0.9981 - loss: 0.0654\n",
            "Epoch 40: ReduceLROnPlateau reducing learning rate to 0.0002500000118743628.\n",
            "\u001b[1m1270/1270\u001b[0m \u001b[32m━━━━━━━━━━━━━━━━━━━━\u001b[0m\u001b[37m\u001b[0m \u001b[1m6s\u001b[0m 4ms/step - accuracy: 0.9789 - auc: 0.9980 - loss: 0.0655 - val_accuracy: 0.9840 - val_auc: 0.9993 - val_loss: 0.0608 - learning_rate: 5.0000e-04\n",
            "Epoch 41/100\n",
            "\u001b[1m1270/1270\u001b[0m \u001b[32m━━━━━━━━━━━━━━━━━━━━\u001b[0m\u001b[37m\u001b[0m \u001b[1m6s\u001b[0m 4ms/step - accuracy: 0.9810 - auc: 0.9985 - loss: 0.0623 - val_accuracy: 0.9841 - val_auc: 0.9995 - val_loss: 0.0521 - learning_rate: 2.5000e-04\n",
            "Epoch 42/100\n",
            "\u001b[1m1270/1270\u001b[0m \u001b[32m━━━━━━━━━━━━━━━━━━━━\u001b[0m\u001b[37m\u001b[0m \u001b[1m4s\u001b[0m 3ms/step - accuracy: 0.9818 - auc: 0.9986 - loss: 0.0586 - val_accuracy: 0.9867 - val_auc: 0.9995 - val_loss: 0.0505 - learning_rate: 2.5000e-04\n",
            "Epoch 43/100\n",
            "\u001b[1m1270/1270\u001b[0m \u001b[32m━━━━━━━━━━━━━━━━━━━━\u001b[0m\u001b[37m\u001b[0m \u001b[1m5s\u001b[0m 4ms/step - accuracy: 0.9822 - auc: 0.9984 - loss: 0.0588 - val_accuracy: 0.9876 - val_auc: 0.9995 - val_loss: 0.0478 - learning_rate: 2.5000e-04\n",
            "Epoch 44/100\n",
            "\u001b[1m1270/1270\u001b[0m \u001b[32m━━━━━━━━━━━━━━━━━━━━\u001b[0m\u001b[37m\u001b[0m \u001b[1m5s\u001b[0m 4ms/step - accuracy: 0.9813 - auc: 0.9984 - loss: 0.0608 - val_accuracy: 0.9868 - val_auc: 0.9995 - val_loss: 0.0499 - learning_rate: 2.5000e-04\n",
            "Epoch 45/100\n",
            "\u001b[1m1270/1270\u001b[0m \u001b[32m━━━━━━━━━━━━━━━━━━━━\u001b[0m\u001b[37m\u001b[0m \u001b[1m4s\u001b[0m 3ms/step - accuracy: 0.9836 - auc: 0.9988 - loss: 0.0547 - val_accuracy: 0.9876 - val_auc: 0.9995 - val_loss: 0.0460 - learning_rate: 2.5000e-04\n",
            "Epoch 46/100\n",
            "\u001b[1m1270/1270\u001b[0m \u001b[32m━━━━━━━━━━━━━━━━━━━━\u001b[0m\u001b[37m\u001b[0m \u001b[1m6s\u001b[0m 4ms/step - accuracy: 0.9830 - auc: 0.9987 - loss: 0.0546 - val_accuracy: 0.9824 - val_auc: 0.9992 - val_loss: 0.0596 - learning_rate: 2.5000e-04\n",
            "Epoch 47/100\n",
            "\u001b[1m1270/1270\u001b[0m \u001b[32m━━━━━━━━━━━━━━━━━━━━\u001b[0m\u001b[37m\u001b[0m \u001b[1m10s\u001b[0m 4ms/step - accuracy: 0.9842 - auc: 0.9988 - loss: 0.0533 - val_accuracy: 0.9816 - val_auc: 0.9994 - val_loss: 0.0593 - learning_rate: 2.5000e-04\n",
            "Epoch 48/100\n",
            "\u001b[1m1270/1270\u001b[0m \u001b[32m━━━━━━━━━━━━━━━━━━━━\u001b[0m\u001b[37m\u001b[0m \u001b[1m4s\u001b[0m 3ms/step - accuracy: 0.9820 - auc: 0.9986 - loss: 0.0562 - val_accuracy: 0.9846 - val_auc: 0.9993 - val_loss: 0.0499 - learning_rate: 2.5000e-04\n",
            "Epoch 49/100\n",
            "\u001b[1m1270/1270\u001b[0m \u001b[32m━━━━━━━━━━━━━━━━━━━━\u001b[0m\u001b[37m\u001b[0m \u001b[1m4s\u001b[0m 3ms/step - accuracy: 0.9825 - auc: 0.9987 - loss: 0.0559 - val_accuracy: 0.9818 - val_auc: 0.9995 - val_loss: 0.0571 - learning_rate: 2.5000e-04\n",
            "Epoch 50/100\n",
            "\u001b[1m1254/1270\u001b[0m \u001b[32m━━━━━━━━━━━━━━━━━━━\u001b[0m\u001b[37m━\u001b[0m \u001b[1m0s\u001b[0m 3ms/step - accuracy: 0.9848 - auc: 0.9989 - loss: 0.0523\n",
            "Epoch 50: ReduceLROnPlateau reducing learning rate to 0.0001250000059371814.\n",
            "\u001b[1m1270/1270\u001b[0m \u001b[32m━━━━━━━━━━━━━━━━━━━━\u001b[0m\u001b[37m\u001b[0m \u001b[1m6s\u001b[0m 4ms/step - accuracy: 0.9848 - auc: 0.9989 - loss: 0.0523 - val_accuracy: 0.9827 - val_auc: 0.9994 - val_loss: 0.0569 - learning_rate: 2.5000e-04\n",
            "Epoch 51/100\n",
            "\u001b[1m1270/1270\u001b[0m \u001b[32m━━━━━━━━━━━━━━━━━━━━\u001b[0m\u001b[37m\u001b[0m \u001b[1m4s\u001b[0m 3ms/step - accuracy: 0.9873 - auc: 0.9993 - loss: 0.0454 - val_accuracy: 0.9879 - val_auc: 0.9996 - val_loss: 0.0420 - learning_rate: 1.2500e-04\n",
            "Epoch 52/100\n",
            "\u001b[1m1270/1270\u001b[0m \u001b[32m━━━━━━━━━━━━━━━━━━━━\u001b[0m\u001b[37m\u001b[0m \u001b[1m5s\u001b[0m 4ms/step - accuracy: 0.9862 - auc: 0.9992 - loss: 0.0471 - val_accuracy: 0.9891 - val_auc: 0.9996 - val_loss: 0.0413 - learning_rate: 1.2500e-04\n",
            "Epoch 53/100\n",
            "\u001b[1m1270/1270\u001b[0m \u001b[32m━━━━━━━━━━━━━━━━━━━━\u001b[0m\u001b[37m\u001b[0m \u001b[1m5s\u001b[0m 4ms/step - accuracy: 0.9856 - auc: 0.9988 - loss: 0.0508 - val_accuracy: 0.9824 - val_auc: 0.9996 - val_loss: 0.0522 - learning_rate: 1.2500e-04\n",
            "Epoch 54/100\n",
            "\u001b[1m1270/1270\u001b[0m \u001b[32m━━━━━━━━━━━━━━━━━━━━\u001b[0m\u001b[37m\u001b[0m \u001b[1m5s\u001b[0m 4ms/step - accuracy: 0.9870 - auc: 0.9990 - loss: 0.0466 - val_accuracy: 0.9839 - val_auc: 0.9996 - val_loss: 0.0517 - learning_rate: 1.2500e-04\n",
            "Epoch 55/100\n",
            "\u001b[1m1270/1270\u001b[0m \u001b[32m━━━━━━━━━━━━━━━━━━━━\u001b[0m\u001b[37m\u001b[0m \u001b[1m5s\u001b[0m 4ms/step - accuracy: 0.9871 - auc: 0.9992 - loss: 0.0449 - val_accuracy: 0.9843 - val_auc: 0.9995 - val_loss: 0.0495 - learning_rate: 1.2500e-04\n",
            "Epoch 56/100\n",
            "\u001b[1m1270/1270\u001b[0m \u001b[32m━━━━━━━━━━━━━━━━━━━━\u001b[0m\u001b[37m\u001b[0m \u001b[1m5s\u001b[0m 4ms/step - accuracy: 0.9880 - auc: 0.9992 - loss: 0.0426 - val_accuracy: 0.9850 - val_auc: 0.9996 - val_loss: 0.0485 - learning_rate: 1.2500e-04\n",
            "Epoch 57/100\n",
            "\u001b[1m1259/1270\u001b[0m \u001b[32m━━━━━━━━━━━━━━━━━━━\u001b[0m\u001b[37m━\u001b[0m \u001b[1m0s\u001b[0m 3ms/step - accuracy: 0.9872 - auc: 0.9991 - loss: 0.0458\n",
            "Epoch 57: ReduceLROnPlateau reducing learning rate to 6.25000029685907e-05.\n",
            "\u001b[1m1270/1270\u001b[0m \u001b[32m━━━━━━━━━━━━━━━━━━━━\u001b[0m\u001b[37m\u001b[0m \u001b[1m6s\u001b[0m 4ms/step - accuracy: 0.9872 - auc: 0.9991 - loss: 0.0458 - val_accuracy: 0.9828 - val_auc: 0.9996 - val_loss: 0.0548 - learning_rate: 1.2500e-04\n",
            "Epoch 58/100\n",
            "\u001b[1m1270/1270\u001b[0m \u001b[32m━━━━━━━━━━━━━━━━━━━━\u001b[0m\u001b[37m\u001b[0m \u001b[1m4s\u001b[0m 3ms/step - accuracy: 0.9888 - auc: 0.9993 - loss: 0.0406 - val_accuracy: 0.9876 - val_auc: 0.9996 - val_loss: 0.0440 - learning_rate: 6.2500e-05\n",
            "Epoch 59/100\n",
            "\u001b[1m1270/1270\u001b[0m \u001b[32m━━━━━━━━━━━━━━━━━━━━\u001b[0m\u001b[37m\u001b[0m \u001b[1m6s\u001b[0m 4ms/step - accuracy: 0.9892 - auc: 0.9992 - loss: 0.0414 - val_accuracy: 0.9877 - val_auc: 0.9996 - val_loss: 0.0431 - learning_rate: 6.2500e-05\n",
            "Epoch 60/100\n",
            "\u001b[1m1270/1270\u001b[0m \u001b[32m━━━━━━━━━━━━━━━━━━━━\u001b[0m\u001b[37m\u001b[0m \u001b[1m5s\u001b[0m 4ms/step - accuracy: 0.9887 - auc: 0.9993 - loss: 0.0412 - val_accuracy: 0.9892 - val_auc: 0.9996 - val_loss: 0.0396 - learning_rate: 6.2500e-05\n",
            "Epoch 61/100\n",
            "\u001b[1m1270/1270\u001b[0m \u001b[32m━━━━━━━━━━━━━━━━━━━━\u001b[0m\u001b[37m\u001b[0m \u001b[1m5s\u001b[0m 4ms/step - accuracy: 0.9878 - auc: 0.9992 - loss: 0.0429 - val_accuracy: 0.9876 - val_auc: 0.9996 - val_loss: 0.0424 - learning_rate: 6.2500e-05\n",
            "Epoch 62/100\n",
            "\u001b[1m1270/1270\u001b[0m \u001b[32m━━━━━━━━━━━━━━━━━━━━\u001b[0m\u001b[37m\u001b[0m \u001b[1m6s\u001b[0m 4ms/step - accuracy: 0.9899 - auc: 0.9994 - loss: 0.0381 - val_accuracy: 0.9762 - val_auc: 0.9995 - val_loss: 0.0655 - learning_rate: 6.2500e-05\n",
            "Epoch 63/100\n",
            "\u001b[1m1270/1270\u001b[0m \u001b[32m━━━━━━━━━━━━━━━━━━━━\u001b[0m\u001b[37m\u001b[0m \u001b[1m4s\u001b[0m 3ms/step - accuracy: 0.9875 - auc: 0.9991 - loss: 0.0437 - val_accuracy: 0.9863 - val_auc: 0.9996 - val_loss: 0.0451 - learning_rate: 6.2500e-05\n",
            "Epoch 64/100\n",
            "\u001b[1m1270/1270\u001b[0m \u001b[32m━━━━━━━━━━━━━━━━━━━━\u001b[0m\u001b[37m\u001b[0m \u001b[1m5s\u001b[0m 4ms/step - accuracy: 0.9888 - auc: 0.9994 - loss: 0.0395 - val_accuracy: 0.9880 - val_auc: 0.9996 - val_loss: 0.0396 - learning_rate: 6.2500e-05\n",
            "Epoch 65/100\n",
            "\u001b[1m1262/1270\u001b[0m \u001b[32m━━━━━━━━━━━━━━━━━━━\u001b[0m\u001b[37m━\u001b[0m \u001b[1m0s\u001b[0m 3ms/step - accuracy: 0.9874 - auc: 0.9991 - loss: 0.0438\n",
            "Epoch 65: ReduceLROnPlateau reducing learning rate to 3.125000148429535e-05.\n",
            "\u001b[1m1270/1270\u001b[0m \u001b[32m━━━━━━━━━━━━━━━━━━━━\u001b[0m\u001b[37m\u001b[0m \u001b[1m5s\u001b[0m 3ms/step - accuracy: 0.9874 - auc: 0.9991 - loss: 0.0438 - val_accuracy: 0.9874 - val_auc: 0.9997 - val_loss: 0.0421 - learning_rate: 6.2500e-05\n",
            "Epoch 66/100\n",
            "\u001b[1m1270/1270\u001b[0m \u001b[32m━━━━━━━━━━━━━━━━━━━━\u001b[0m\u001b[37m\u001b[0m \u001b[1m4s\u001b[0m 3ms/step - accuracy: 0.9889 - auc: 0.9994 - loss: 0.0388 - val_accuracy: 0.9856 - val_auc: 0.9996 - val_loss: 0.0476 - learning_rate: 3.1250e-05\n",
            "Epoch 67/100\n",
            "\u001b[1m1270/1270\u001b[0m \u001b[32m━━━━━━━━━━━━━━━━━━━━\u001b[0m\u001b[37m\u001b[0m \u001b[1m6s\u001b[0m 4ms/step - accuracy: 0.9891 - auc: 0.9995 - loss: 0.0381 - val_accuracy: 0.9889 - val_auc: 0.9997 - val_loss: 0.0390 - learning_rate: 3.1250e-05\n",
            "Epoch 68/100\n",
            "\u001b[1m1270/1270\u001b[0m \u001b[32m━━━━━━━━━━━━━━━━━━━━\u001b[0m\u001b[37m\u001b[0m \u001b[1m5s\u001b[0m 4ms/step - accuracy: 0.9895 - auc: 0.9992 - loss: 0.0398 - val_accuracy: 0.9886 - val_auc: 0.9997 - val_loss: 0.0398 - learning_rate: 3.1250e-05\n",
            "Epoch 69/100\n",
            "\u001b[1m1270/1270\u001b[0m \u001b[32m━━━━━━━━━━━━━━━━━━━━\u001b[0m\u001b[37m\u001b[0m \u001b[1m5s\u001b[0m 4ms/step - accuracy: 0.9899 - auc: 0.9996 - loss: 0.0369 - val_accuracy: 0.9888 - val_auc: 0.9997 - val_loss: 0.0401 - learning_rate: 3.1250e-05\n",
            "Epoch 70/100\n",
            "\u001b[1m1270/1270\u001b[0m \u001b[32m━━━━━━━━━━━━━━━━━━━━\u001b[0m\u001b[37m\u001b[0m \u001b[1m4s\u001b[0m 3ms/step - accuracy: 0.9900 - auc: 0.9994 - loss: 0.0379 - val_accuracy: 0.9877 - val_auc: 0.9997 - val_loss: 0.0424 - learning_rate: 3.1250e-05\n",
            "Epoch 71/100\n",
            "\u001b[1m1270/1270\u001b[0m \u001b[32m━━━━━━━━━━━━━━━━━━━━\u001b[0m\u001b[37m\u001b[0m \u001b[1m6s\u001b[0m 4ms/step - accuracy: 0.9900 - auc: 0.9993 - loss: 0.0400 - val_accuracy: 0.9865 - val_auc: 0.9997 - val_loss: 0.0435 - learning_rate: 3.1250e-05\n",
            "Epoch 72/100\n",
            "\u001b[1m1267/1270\u001b[0m \u001b[32m━━━━━━━━━━━━━━━━━━━\u001b[0m\u001b[37m━\u001b[0m \u001b[1m0s\u001b[0m 3ms/step - accuracy: 0.9891 - auc: 0.9993 - loss: 0.0404\n",
            "Epoch 72: ReduceLROnPlateau reducing learning rate to 1.5625000742147677e-05.\n",
            "\u001b[1m1270/1270\u001b[0m \u001b[32m━━━━━━━━━━━━━━━━━━━━\u001b[0m\u001b[37m\u001b[0m \u001b[1m5s\u001b[0m 4ms/step - accuracy: 0.9891 - auc: 0.9993 - loss: 0.0404 - val_accuracy: 0.9865 - val_auc: 0.9996 - val_loss: 0.0440 - learning_rate: 3.1250e-05\n",
            "Epoch 73/100\n",
            "\u001b[1m1270/1270\u001b[0m \u001b[32m━━━━━━━━━━━━━━━━━━━━\u001b[0m\u001b[37m\u001b[0m \u001b[1m5s\u001b[0m 4ms/step - accuracy: 0.9890 - auc: 0.9993 - loss: 0.0395 - val_accuracy: 0.9874 - val_auc: 0.9997 - val_loss: 0.0422 - learning_rate: 1.5625e-05\n",
            "Epoch 74/100\n",
            "\u001b[1m1270/1270\u001b[0m \u001b[32m━━━━━━━━━━━━━━━━━━━━\u001b[0m\u001b[37m\u001b[0m \u001b[1m5s\u001b[0m 4ms/step - accuracy: 0.9899 - auc: 0.9995 - loss: 0.0372 - val_accuracy: 0.9879 - val_auc: 0.9997 - val_loss: 0.0414 - learning_rate: 1.5625e-05\n",
            "Epoch 75/100\n",
            "\u001b[1m1270/1270\u001b[0m \u001b[32m━━━━━━━━━━━━━━━━━━━━\u001b[0m\u001b[37m\u001b[0m \u001b[1m4s\u001b[0m 3ms/step - accuracy: 0.9910 - auc: 0.9995 - loss: 0.0348 - val_accuracy: 0.9874 - val_auc: 0.9997 - val_loss: 0.0415 - learning_rate: 1.5625e-05\n",
            "Epoch 76/100\n",
            "\u001b[1m1270/1270\u001b[0m \u001b[32m━━━━━━━━━━━━━━━━━━━━\u001b[0m\u001b[37m\u001b[0m \u001b[1m5s\u001b[0m 3ms/step - accuracy: 0.9905 - auc: 0.9994 - loss: 0.0370 - val_accuracy: 0.9896 - val_auc: 0.9997 - val_loss: 0.0392 - learning_rate: 1.5625e-05\n",
            "Epoch 77/100\n",
            "\u001b[1m1252/1270\u001b[0m \u001b[32m━━━━━━━━━━━━━━━━━━━\u001b[0m\u001b[37m━\u001b[0m \u001b[1m0s\u001b[0m 3ms/step - accuracy: 0.9890 - auc: 0.9991 - loss: 0.0404\n",
            "Epoch 77: ReduceLROnPlateau reducing learning rate to 7.812500371073838e-06.\n",
            "\u001b[1m1270/1270\u001b[0m \u001b[32m━━━━━━━━━━━━━━━━━━━━\u001b[0m\u001b[37m\u001b[0m \u001b[1m6s\u001b[0m 4ms/step - accuracy: 0.9890 - auc: 0.9991 - loss: 0.0404 - val_accuracy: 0.9862 - val_auc: 0.9997 - val_loss: 0.0442 - learning_rate: 1.5625e-05\n"
          ]
        }
      ]
    },
    {
      "cell_type": "markdown",
      "source": [
        "### Tahap 5 : Evaluasi dan Visualisasi *Model*"
      ],
      "metadata": {
        "id": "nqI6KUyHwUCN"
      }
    },
    {
      "cell_type": "code",
      "source": [
        "y_pred_prob = model.predict(X_test_scaled).flatten()\n",
        "y_pred_class = (y_pred_prob > 0.5).astype(int)\n"
      ],
      "metadata": {
        "id": "hKhJjBtDdcrZ",
        "colab": {
          "base_uri": "https://localhost:8080/"
        },
        "outputId": "74671e06-f8da-4624-d1f3-d248d3b87741"
      },
      "execution_count": null,
      "outputs": [
        {
          "output_type": "stream",
          "name": "stdout",
          "text": [
            "\u001b[1m397/397\u001b[0m \u001b[32m━━━━━━━━━━━━━━━━━━━━\u001b[0m\u001b[37m\u001b[0m \u001b[1m1s\u001b[0m 2ms/step\n"
          ]
        }
      ]
    },
    {
      "cell_type": "code",
      "source": [
        "from sklearn.metrics import accuracy_score, precision_score, recall_score, f1_score, roc_auc_score\n",
        "\n",
        "print(\"Akurasi:\", accuracy_score(y_test_class, y_pred_class))\n",
        "print(\"Precision:\", precision_score(y_test_class, y_pred_class))\n",
        "print(\"Recall:\", recall_score(y_test_class, y_pred_class))\n",
        "print(\"F1 Score:\", f1_score(y_test_class, y_pred_class))\n",
        "print(\"ROC AUC:\", roc_auc_score(y_test_class, y_pred_prob))\n"
      ],
      "metadata": {
        "id": "dtZmAzb8wciV",
        "colab": {
          "base_uri": "https://localhost:8080/"
        },
        "outputId": "73186acf-32ea-4aa5-df05-78f9d9ba02c9"
      },
      "execution_count": null,
      "outputs": [
        {
          "output_type": "stream",
          "name": "stdout",
          "text": [
            "Akurasi: 0.9895234344230012\n",
            "Precision: 0.9969195849546044\n",
            "Recall: 0.9817978604502634\n",
            "F1 Score: 0.9893009411953986\n",
            "ROC AUC: 0.9995115632122002\n"
          ]
        }
      ]
    },
    {
      "cell_type": "code",
      "source": [
        "from sklearn.metrics import confusion_matrix\n",
        "import seaborn as sns\n",
        "import matplotlib.pyplot as plt\n",
        "\n",
        "cm = confusion_matrix(y_test_class, y_pred_class)\n",
        "sns.heatmap(cm, annot=True, fmt='d', cmap='Blues')\n",
        "plt.title(\"Confusion Matrix\")\n",
        "plt.xlabel(\"Predicted\")\n",
        "plt.ylabel(\"Actual\")\n",
        "plt.show()\n"
      ],
      "metadata": {
        "id": "W-bo446fwhJ4",
        "colab": {
          "base_uri": "https://localhost:8080/",
          "height": 472
        },
        "outputId": "0e946293-0d7f-4a6d-bbe7-8a06eb48e2c7"
      },
      "execution_count": null,
      "outputs": [
        {
          "output_type": "display_data",
          "data": {
            "text/plain": [
              "<Figure size 640x480 with 2 Axes>"
            ],
            "image/png": "[encoded data removed]"
          },
          "metadata": {}
        }
      ]
    },
    {
      "cell_type": "code",
      "source": [
        "from sklearn.metrics import roc_curve\n",
        "\n",
        "fpr, tpr, _ = roc_curve(y_test_class, y_pred_prob)\n",
        "plt.plot(fpr, tpr, label=f\"AUC = {roc_auc_score(y_test_class, y_pred_prob):.4f}\")\n",
        "plt.plot([0, 1], [0, 1], 'k--')\n",
        "plt.xlabel(\"False Positive Rate\")\n",
        "plt.ylabel(\"True Positive Rate\")\n",
        "plt.title(\"ROC Curve\")\n",
        "plt.legend()\n",
        "plt.grid()\n",
        "plt.show()\n"
      ],
      "metadata": {
        "id": "pzxUaGAxwiwr",
        "colab": {
          "base_uri": "https://localhost:8080/",
          "height": 472
        },
        "outputId": "dcfd6160-2c78-490c-cd2d-a05f1f734cd8"
      },
      "execution_count": null,
      "outputs": [
        {
          "output_type": "display_data",
          "data": {
            "text/plain": [
              "<Figure size 640x480 with 1 Axes>"
            ],
            "image/png": "[encoded data removed]"
          },
          "metadata": {}
        }
      ]
    },
    {
      "cell_type": "markdown",
      "source": [
        "### Penjelasan\n",
        "- Akurasi\t= 0.9879 ---> model mengklasifikasikan hampir semua sampel dengan benar\n",
        "- Precision =\t0.9932 --->\tdari semua prediksi kelas positif (1), 99.32% benar\n",
        "- Recall\t= 0.9827 --->\tdari semua contoh sebenarnya kelas positif, 98.27% berhasil dideteksi\n",
        "- F1 Score\t= 0.9879 --->\tkeseimbangan yang sangat baik antara precision dan recall\n",
        "- ROC = AUC\t0.9991 --->\tmodel hampir sempurna dalam membedakan antara kelas 0 dan kelas 1\n",
        "<br>\n",
        "\n",
        "### Kesimpulan model menggunakan Tensorflow  \n",
        "- Sangat akurat dan seimbang: tidak hanya bagus di satu sisi (misalnya precision saja), tetapi juga recall tinggi.\n",
        "- Tidak overfitting: Karena hasil di test set tetap sangat tinggi (kita juga bisa bandingkan dengan hasil di validation untuk kepastian).\n",
        "- Nyaris sempurna secara ROC AUC: 0.999 artinya kurva ROC-nya hampir menempel ke sudut kiri atas (ideal classifier)."
      ],
      "metadata": {
        "id": "u8R579rFxKZ6"
      }
    },
    {
      "cell_type": "markdown",
      "source": [
        "### Tahap 5 : Pembuatan Arsitektur MLP Klasifikasi di PyTorch\n",
        "\n",
        "Pembuatan arsitektur ini menggunakan :    \n",
        "- Dense layers dengan ReLU\n",
        "- Dropout untuk regularisasi\n",
        "- BatchNorm untuk stabilisasi\n",
        "- Softmax layer di akhir\n",
        "\n"
      ],
      "metadata": {
        "id": "ZeByH4vxzar-"
      }
    },
    {
      "cell_type": "code",
      "source": [
        "import torch.nn as nn\n",
        "import torch.nn.functional as F\n",
        "\n",
        "class MLPClassifier(nn.Module):\n",
        "    def __init__(self, input_dim, num_classes, hidden_dims=[128, 64], dropout_rate=0.5):\n",
        "        super(MLPClassifier, self).__init__()\n",
        "        self.model = nn.Sequential(\n",
        "            nn.Linear(input_dim, hidden_dims[0]),\n",
        "            nn.BatchNorm1d(hidden_dims[0]),\n",
        "            nn.ReLU(),\n",
        "            nn.Dropout(dropout_rate),\n",
        "\n",
        "            nn.Linear(hidden_dims[0], hidden_dims[1]),\n",
        "            nn.BatchNorm1d(hidden_dims[1]),\n",
        "            nn.ReLU(),\n",
        "            nn.Dropout(dropout_rate),\n",
        "\n",
        "            nn.Linear(hidden_dims[1], num_classes)\n",
        "        )\n",
        "\n",
        "    def forward(self, x):\n",
        "        return self.model(x)  # output logits\n"
      ],
      "metadata": {
        "id": "jo8LvFEHwj-a"
      },
      "execution_count": null,
      "outputs": []
    },
    {
      "cell_type": "markdown",
      "source": [
        "### Tahap 6 : Split dan Scaling Data"
      ],
      "metadata": {
        "id": "vKhvxdgW0eOe"
      }
    },
    {
      "cell_type": "code",
      "source": [
        "import pandas as pd\n",
        "from collections import Counter\n",
        "\n",
        "# Hitung jumlah sampel per kelas\n",
        "class_counts = pd.Series(y).value_counts()\n",
        "\n",
        "# Ambil hanya kelas yang jumlahnya >= 2\n",
        "valid_classes = class_counts[class_counts >= 2].index\n",
        "mask = pd.Series(y).isin(valid_classes)\n",
        "\n",
        "X_filtered = X[mask]\n",
        "y_filtered = y[mask]\n",
        "\n",
        "# Lanjut split\n",
        "X_train, X_val, y_train, y_val = train_test_split(\n",
        "    X_filtered, y_filtered, test_size=0.2, stratify=y_filtered, random_state=42\n",
        ")\n"
      ],
      "metadata": {
        "id": "fI9FZIrf0uUw"
      },
      "execution_count": null,
      "outputs": []
    },
    {
      "cell_type": "code",
      "source": [
        "from sklearn.preprocessing import StandardScaler\n",
        "\n",
        "# Gunakan data yang sudah difilter\n",
        "scaler = StandardScaler()\n",
        "X_train_scaled = scaler.fit_transform(X_train)\n",
        "X_val_scaled = scaler.transform(X_val)\n"
      ],
      "metadata": {
        "id": "VtKawwva0kMk"
      },
      "execution_count": null,
      "outputs": []
    },
    {
      "cell_type": "markdown",
      "source": [
        "### Tahap 7 : Training Loop di PyTorch\n",
        "\n",
        "Langkah ini mencakup :    \n",
        "- Inisialisasi model, optimizer, dan loss function\n",
        "- Training loop per epoch\n",
        "- Validasi setiap *epoch*"
      ],
      "metadata": {
        "id": "C1V8UP4E0FOJ"
      }
    },
    {
      "cell_type": "code",
      "source": [
        "import torch\n",
        "from torch.utils.data import DataLoader, TensorDataset\n",
        "\n",
        "# Konversi data ke tensor\n",
        "X_train_tensor = torch.tensor(X_train_scaled, dtype=torch.float32)\n",
        "y_train_tensor = torch.tensor(y_train.values, dtype=torch.long)  # pastikan .values jika y_train adalah Series\n",
        "\n",
        "X_val_tensor = torch.tensor(X_val_scaled, dtype=torch.float32)\n",
        "y_val_tensor = torch.tensor(y_val.values, dtype=torch.long)\n",
        "\n",
        "# Buat dataset dan dataloader\n",
        "train_dataset = TensorDataset(X_train_tensor, y_train_tensor)\n",
        "val_dataset = TensorDataset(X_val_tensor, y_val_tensor)\n",
        "\n",
        "train_loader = DataLoader(train_dataset, batch_size=64, shuffle=True)\n",
        "val_loader = DataLoader(val_dataset, batch_size=64, shuffle=False)\n"
      ],
      "metadata": {
        "id": "lPLu3SYx2H80"
      },
      "execution_count": null,
      "outputs": []
    },
    {
      "cell_type": "code",
      "source": [
        "import torch\n",
        "import torch.nn as nn\n",
        "from sklearn.metrics import accuracy_score\n",
        "import numpy as np\n",
        "\n",
        "# Inisialisasi ulang model agar tidak pakai .model\n",
        "model = MLPClassifier(input_dim=X_train_tensor.shape[1], num_classes=len(np.unique(y_train)))\n",
        "device = torch.device(\"cuda\" if torch.cuda.is_available() else \"cpu\")\n",
        "model.to(device)\n",
        "\n",
        "# Loss dan optimizer\n",
        "criterion = nn.CrossEntropyLoss()\n",
        "optimizer = torch.optim.Adam(model.parameters(), lr=1e-3, weight_decay=1e-5)\n",
        "\n",
        "# Training loop\n",
        "num_epochs = 30\n",
        "best_val_acc = 0.0\n",
        "\n",
        "for epoch in range(num_epochs):\n",
        "    model.train()\n",
        "    running_loss = 0.0\n",
        "\n",
        "    for X_batch, y_batch in train_loader:\n",
        "        X_batch, y_batch = X_batch.to(device), y_batch.to(device)\n",
        "\n",
        "        optimizer.zero_grad()\n",
        "        outputs = model(X_batch)\n",
        "        loss = criterion(outputs, y_batch)\n",
        "        loss.backward()\n",
        "        optimizer.step()\n",
        "\n",
        "        running_loss += loss.item() * X_batch.size(0)\n",
        "\n",
        "    epoch_loss = running_loss / len(train_loader.dataset)\n",
        "\n",
        "    # Validation\n",
        "    model.eval()\n",
        "    y_true, y_pred = [], []\n",
        "\n",
        "    with torch.no_grad():\n",
        "        for X_batch, y_batch in val_loader:\n",
        "            X_batch = X_batch.to(device)\n",
        "            outputs = model(X_batch)\n",
        "            preds = torch.argmax(outputs, dim=1).cpu().numpy()\n",
        "\n",
        "            y_pred.extend(preds)\n",
        "            y_true.extend(y_batch.numpy())\n",
        "\n",
        "    val_acc = accuracy_score(y_true, y_pred)\n",
        "\n",
        "    print(f\"Epoch {epoch+1}/{num_epochs} - Loss: {epoch_loss:.4f} - Val Acc: {val_acc:.4f}\")\n",
        "\n",
        "    # Simpan model terbaik (opsional)\n",
        "    if val_acc > best_val_acc:\n",
        "        best_val_acc = val_acc\n",
        "        torch.save(model.state_dict(), \"best_model.pth\")\n"
      ],
      "metadata": {
        "id": "Zke6mqGnzz3X",
        "colab": {
          "base_uri": "https://localhost:8080/"
        },
        "outputId": "39479fce-db71-4b8d-9c4b-daf99e52d905"
      },
      "execution_count": null,
      "outputs": [
        {
          "output_type": "stream",
          "name": "stdout",
          "text": [
            "Epoch 1/30 - Loss: 5.1064 - Val Acc: 0.1359\n",
            "Epoch 2/30 - Loss: 4.2675 - Val Acc: 0.1489\n",
            "Epoch 3/30 - Loss: 4.0753 - Val Acc: 0.1643\n",
            "Epoch 4/30 - Loss: 3.9195 - Val Acc: 0.1728\n",
            "Epoch 5/30 - Loss: 3.8143 - Val Acc: 0.1887\n",
            "Epoch 6/30 - Loss: 3.7509 - Val Acc: 0.1983\n",
            "Epoch 7/30 - Loss: 3.7079 - Val Acc: 0.2057\n",
            "Epoch 8/30 - Loss: 3.6722 - Val Acc: 0.1399\n",
            "Epoch 9/30 - Loss: 3.6360 - Val Acc: 0.2061\n",
            "Epoch 10/30 - Loss: 3.6151 - Val Acc: 0.1653\n",
            "Epoch 11/30 - Loss: 3.5894 - Val Acc: 0.1920\n",
            "Epoch 12/30 - Loss: 3.5742 - Val Acc: 0.1852\n",
            "Epoch 13/30 - Loss: 3.5597 - Val Acc: 0.0891\n",
            "Epoch 14/30 - Loss: 3.5419 - Val Acc: 0.1982\n",
            "Epoch 15/30 - Loss: 3.5324 - Val Acc: 0.1719\n",
            "Epoch 16/30 - Loss: 3.5187 - Val Acc: 0.2259\n",
            "Epoch 17/30 - Loss: 3.5001 - Val Acc: 0.2082\n",
            "Epoch 18/30 - Loss: 3.4947 - Val Acc: 0.1201\n",
            "Epoch 19/30 - Loss: 3.4997 - Val Acc: 0.0789\n",
            "Epoch 20/30 - Loss: 3.4837 - Val Acc: 0.2022\n",
            "Epoch 21/30 - Loss: 3.4858 - Val Acc: 0.0941\n",
            "Epoch 22/30 - Loss: 3.4681 - Val Acc: 0.1926\n",
            "Epoch 23/30 - Loss: 3.4570 - Val Acc: 0.1844\n",
            "Epoch 24/30 - Loss: 3.4511 - Val Acc: 0.1512\n",
            "Epoch 25/30 - Loss: 3.4525 - Val Acc: 0.2215\n",
            "Epoch 26/30 - Loss: 3.4419 - Val Acc: 0.0865\n",
            "Epoch 27/30 - Loss: 3.4430 - Val Acc: 0.2172\n",
            "Epoch 28/30 - Loss: 3.4399 - Val Acc: 0.1302\n",
            "Epoch 29/30 - Loss: 3.4202 - Val Acc: 0.2035\n",
            "Epoch 30/30 - Loss: 3.4409 - Val Acc: 0.1789\n"
          ]
        }
      ]
    },
    {
      "cell_type": "markdown",
      "source": [
        "### Tahap 8 : Evaluasi dan Visualisasi Model\n",
        "\n",
        "Tahapan ini mencakup :    \n",
        "- Akurasi\n",
        "- Precision, Recall, F1-score (macro & weighted)\n",
        "- Confusion Matrix\n",
        "- ROC AUC (jika multi-label atau binari)"
      ],
      "metadata": {
        "id": "wdEbKgyu5_7e"
      }
    },
    {
      "cell_type": "markdown",
      "source": [
        "Persiapan & Prediksi"
      ],
      "metadata": {
        "id": "hY3voZBzJ8N5"
      }
    },
    {
      "cell_type": "code",
      "source": [
        "import torch\n",
        "import numpy as np\n",
        "\n",
        "model.eval()\n",
        "\n",
        "y_true, y_pred, y_prob = [], [], []\n",
        "\n",
        "with torch.no_grad():\n",
        "    for X_batch, y_batch in val_loader:\n",
        "        X_batch = X_batch.to(device)\n",
        "        outputs = model(X_batch)\n",
        "\n",
        "        probs = torch.softmax(outputs, dim=1).cpu().numpy()\n",
        "        preds = np.argmax(probs, axis=1)\n",
        "\n",
        "        y_pred.extend(preds)\n",
        "        y_true.extend(y_batch.numpy())\n",
        "        y_prob.extend(probs)\n",
        "\n",
        "y_true = np.array(y_true)\n",
        "y_pred = np.array(y_pred)\n",
        "y_prob = np.array(y_prob)\n",
        "\n",
        "print(\"Prediksi selesai. Bentuk y_true:\", y_true.shape)\n",
        "print(\"Prediksi selesai. Bentuk y_prob:\", y_prob.shape)\n"
      ],
      "metadata": {
        "id": "7e2gq_YO0UmC",
        "colab": {
          "base_uri": "https://localhost:8080/"
        },
        "outputId": "dc27a36b-e7af-4e2e-e6c8-f4e85b9e918b"
      },
      "execution_count": null,
      "outputs": [
        {
          "output_type": "stream",
          "name": "stdout",
          "text": [
            "Prediksi selesai. Bentuk y_true: (10937,)\n",
            "Prediksi selesai. Bentuk y_prob: (10937, 6131)\n"
          ]
        }
      ]
    },
    {
      "cell_type": "markdown",
      "source": [
        "Evaluasi Akurasi, Precision, Recall, F1"
      ],
      "metadata": {
        "id": "5E9B2MB3J_EK"
      }
    },
    {
      "cell_type": "code",
      "source": [
        "from sklearn.metrics import accuracy_score, precision_score, recall_score, f1_score, classification_report\n",
        "\n",
        "print(\"Akurasi:\", accuracy_score(y_true, y_pred))\n",
        "print(\"Precision (macro):\", precision_score(y_true, y_pred, average='macro', zero_division=0))\n",
        "print(\"Recall (macro):\", recall_score(y_true, y_pred, average='macro', zero_division=0))\n",
        "print(\"F1 Score (macro):\", f1_score(y_true, y_pred, average='macro', zero_division=0))\n",
        "\n",
        "print(\"\\nClassification Report:\")\n",
        "print(classification_report(y_true, y_pred, zero_division=0))\n"
      ],
      "metadata": {
        "id": "hxxO0F4y6TGJ",
        "colab": {
          "base_uri": "https://localhost:8080/"
        },
        "outputId": "d4532d9d-a453-46ff-eddc-969650ce12c6"
      },
      "execution_count": null,
      "outputs": [
        {
          "output_type": "stream",
          "name": "stdout",
          "text": [
            "Akurasi: 0.1789338941208741\n",
            "Precision (macro): 0.01868523110082462\n",
            "Recall (macro): 0.03303370693105802\n",
            "F1 Score (macro): 0.01688257533379069\n",
            "\n",
            "Classification Report:\n",
            "              precision    recall  f1-score   support\n",
            "\n",
            "           0       0.60      0.27      0.37       686\n",
            "           1       0.43      0.68      0.53      1134\n",
            "           2       0.00      0.00      0.00       298\n",
            "           3       0.00      0.00      0.00       236\n",
            "           4       0.00      0.00      0.00       282\n",
            "           5       0.00      0.00      0.00       271\n",
            "           6       0.00      0.00      0.00       191\n",
            "           7       0.03      0.01      0.01       251\n",
            "           8       0.24      0.02      0.03       221\n",
            "           9       0.12      0.22      0.15       368\n",
            "          10       0.07      0.02      0.04       283\n",
            "          11       0.40      0.43      0.42       321\n",
            "          12       0.00      0.00      0.00       213\n",
            "          13       0.00      0.00      0.00       109\n",
            "          14       0.00      0.00      0.00       154\n",
            "          15       0.16      0.32      0.21       321\n",
            "          16       0.00      0.00      0.00        91\n",
            "          17       0.17      0.03      0.06       117\n",
            "          18       0.00      0.00      0.00        93\n",
            "          19       0.00      0.00      0.00       170\n",
            "          20       0.00      0.00      0.00       151\n",
            "          21       0.00      0.00      0.00        58\n",
            "          22       0.00      0.00      0.00       106\n",
            "          23       0.00      0.00      0.00        77\n",
            "          24       0.00      0.00      0.00       119\n",
            "          25       0.08      0.21      0.11       115\n",
            "          26       0.00      0.00      0.00        76\n",
            "          27       0.00      0.00      0.00        55\n",
            "          28       0.00      0.00      0.00        75\n",
            "          29       0.05      0.68      0.09       158\n",
            "          30       0.06      0.01      0.02       101\n",
            "          31       0.00      0.00      0.00        43\n",
            "          32       0.00      0.00      0.00        40\n",
            "          33       0.00      0.00      0.00        39\n",
            "          34       0.00      0.00      0.00        86\n",
            "          35       0.29      0.03      0.05        71\n",
            "          36       0.39      0.19      0.25        74\n",
            "          37       0.33      0.02      0.03        63\n",
            "          38       0.00      0.00      0.00        57\n",
            "          39       0.15      0.58      0.24       137\n",
            "          40       0.00      0.00      0.00        75\n",
            "          41       0.00      0.00      0.00        41\n",
            "          42       0.00      0.00      0.00        41\n",
            "          43       0.00      0.00      0.00        33\n",
            "          44       0.00      0.00      0.00        65\n",
            "          45       0.28      0.30      0.29        76\n",
            "          46       0.00      0.00      0.00        36\n",
            "          47       0.00      0.00      0.00        41\n",
            "          48       0.00      0.00      0.00        32\n",
            "          49       0.06      0.03      0.04        89\n",
            "          50       0.09      0.46      0.16        82\n",
            "          51       0.00      0.00      0.00        25\n",
            "          52       0.00      0.00      0.00        42\n",
            "          53       1.00      0.06      0.11        50\n",
            "          54       0.00      0.00      0.00        35\n",
            "          55       0.00      0.00      0.00        41\n",
            "          56       0.00      0.00      0.00        32\n",
            "          57       0.00      0.00      0.00        30\n",
            "          58       0.00      0.00      0.00        27\n",
            "          59       0.03      0.01      0.02        68\n",
            "          60       0.08      0.70      0.14        60\n",
            "          61       0.00      0.00      0.00        23\n",
            "          62       0.00      0.00      0.00        21\n",
            "          63       0.00      0.00      0.00        20\n",
            "          64       0.00      0.00      0.00        43\n",
            "          65       0.00      0.00      0.00        29\n",
            "          66       0.00      0.00      0.00        19\n",
            "          67       0.00      0.00      0.00        22\n",
            "          68       0.00      0.00      0.00        21\n",
            "          69       0.21      0.40      0.28        67\n",
            "          70       0.00      0.00      0.00        33\n",
            "          71       0.00      0.00      0.00        25\n",
            "          72       0.00      0.00      0.00        17\n",
            "          73       0.00      0.00      0.00        14\n",
            "          74       0.00      0.00      0.00        34\n",
            "          75       0.15      0.23      0.18        44\n",
            "          76       0.00      0.00      0.00        28\n",
            "          77       0.00      0.00      0.00        16\n",
            "          78       0.00      0.00      0.00        17\n",
            "          79       0.09      0.69      0.16        58\n",
            "          80       0.00      0.00      0.00        29\n",
            "          81       0.00      0.00      0.00        15\n",
            "          82       0.00      0.00      0.00        11\n",
            "          83       0.00      0.00      0.00        19\n",
            "          84       0.00      0.00      0.00        27\n",
            "          85       0.00      0.00      0.00        30\n",
            "          86       0.00      0.00      0.00        12\n",
            "          87       0.00      0.00      0.00        16\n",
            "          88       0.00      0.00      0.00        21\n",
            "          89       0.46      0.72      0.56       117\n",
            "          90       0.00      0.00      0.00        26\n",
            "          91       0.00      0.00      0.00        12\n",
            "          92       0.00      0.00      0.00        13\n",
            "          93       0.00      0.00      0.00        10\n",
            "          94       0.00      0.00      0.00        20\n",
            "          95       0.00      0.00      0.00        16\n",
            "          96       0.00      0.00      0.00        15\n",
            "          97       0.00      0.00      0.00         9\n",
            "          98       0.00      0.00      0.00        19\n",
            "          99       0.04      0.08      0.06        77\n",
            "         100       0.06      0.64      0.11        42\n",
            "         101       0.00      0.00      0.00         9\n",
            "         102       0.00      0.00      0.00        10\n",
            "         103       0.00      0.00      0.00        10\n",
            "         104       0.00      0.00      0.00        17\n",
            "         105       0.00      0.00      0.00        11\n",
            "         106       0.00      0.00      0.00         8\n",
            "         107       0.00      0.00      0.00         7\n",
            "         108       0.00      0.00      0.00         9\n",
            "         109       0.00      0.00      0.00        18\n",
            "         110       0.00      0.00      0.00        16\n",
            "         111       0.00      0.00      0.00         8\n",
            "         112       0.00      0.00      0.00        10\n",
            "         113       0.00      0.00      0.00         8\n",
            "         114       0.00      0.00      0.00        11\n",
            "         115       0.00      0.00      0.00        10\n",
            "         116       0.00      0.00      0.00         8\n",
            "         117       0.00      0.00      0.00        12\n",
            "         118       0.00      0.00      0.00        14\n",
            "         119       0.00      0.00      0.00        21\n",
            "         120       0.00      0.00      0.00        23\n",
            "         121       0.00      0.00      0.00         8\n",
            "         122       0.00      0.00      0.00         5\n",
            "         123       0.00      0.00      0.00         3\n",
            "         124       0.00      0.00      0.00        10\n",
            "         125       0.44      0.42      0.43        19\n",
            "         126       0.00      0.00      0.00         7\n",
            "         127       0.00      0.00      0.00         5\n",
            "         128       0.00      0.00      0.00         5\n",
            "         129       0.00      0.00      0.00        10\n",
            "         130       0.00      0.00      0.00         9\n",
            "         131       0.00      0.00      0.00         4\n",
            "         132       0.00      0.00      0.00         7\n",
            "         133       0.00      0.00      0.00         7\n",
            "         134       0.00      0.00      0.00        14\n",
            "         135       0.00      0.00      0.00        11\n",
            "         136       0.00      0.00      0.00         7\n",
            "         137       0.00      0.00      0.00         5\n",
            "         138       0.00      0.00      0.00         8\n",
            "         139       0.00      0.00      0.00        14\n",
            "         140       0.00      0.00      0.00         5\n",
            "         141       0.00      0.00      0.00         5\n",
            "         142       0.00      0.00      0.00         7\n",
            "         143       0.00      0.00      0.00         4\n",
            "         144       0.23      0.71      0.35        28\n",
            "         145       0.00      0.00      0.00         4\n",
            "         146       0.00      0.00      0.00         3\n",
            "         147       0.00      0.00      0.00         3\n",
            "         148       0.00      0.00      0.00         6\n",
            "         149       0.00      0.00      0.00        16\n",
            "         150       0.00      0.00      0.00        23\n",
            "         151       0.00      0.00      0.00         8\n",
            "         152       0.00      0.00      0.00         6\n",
            "         153       0.00      0.00      0.00         5\n",
            "         154       0.00      0.00      0.00         8\n",
            "         155       0.00      0.00      0.00         7\n",
            "         156       0.00      0.00      0.00         6\n",
            "         157       0.00      0.00      0.00         1\n",
            "         158       0.15      0.88      0.26        32\n",
            "         159       0.00      0.00      0.00        12\n",
            "         160       0.25      0.15      0.19        13\n",
            "         161       0.00      0.00      0.00         3\n",
            "         162       0.00      0.00      0.00         4\n",
            "         163       0.00      0.00      0.00         4\n",
            "         164       0.00      0.00      0.00         6\n",
            "         165       0.00      0.00      0.00         7\n",
            "         166       0.00      0.00      0.00         3\n",
            "         167       0.00      0.00      0.00         3\n",
            "         168       0.00      0.00      0.00         5\n",
            "         169       0.00      0.00      0.00         9\n",
            "         170       0.00      0.00      0.00         5\n",
            "         171       0.00      0.00      0.00         2\n",
            "         172       0.00      0.00      0.00         4\n",
            "         173       0.00      0.00      0.00         7\n",
            "         174       0.00      0.00      0.00         4\n",
            "         175       0.00      0.00      0.00        10\n",
            "         176       0.00      0.00      0.00         3\n",
            "         177       0.25      0.55      0.34        11\n",
            "         178       0.00      0.00      0.00         5\n",
            "         179       0.00      0.00      0.00        10\n",
            "         180       0.00      0.00      0.00        10\n",
            "         181       0.00      0.00      0.00         2\n",
            "         182       0.00      0.00      0.00         2\n",
            "         183       0.00      0.00      0.00         1\n",
            "         184       0.00      0.00      0.00         4\n",
            "         185       0.00      0.00      0.00         2\n",
            "         186       0.00      0.00      0.00         2\n",
            "         187       0.00      0.00      0.00         2\n",
            "         188       0.00      0.00      0.00         4\n",
            "         189       0.00      0.00      0.00         8\n",
            "         190       0.00      0.00      0.00         5\n",
            "         191       0.00      0.00      0.00         1\n",
            "         192       0.00      0.00      0.00         5\n",
            "         193       0.00      0.00      0.00         1\n",
            "         194       0.00      0.00      0.00         2\n",
            "         195       0.00      0.00      0.00         5\n",
            "         196       0.00      0.00      0.00         6\n",
            "         197       0.00      0.00      0.00         3\n",
            "         198       0.00      0.00      0.00         6\n",
            "         199       0.00      0.00      0.00        10\n",
            "         200       0.09      0.73      0.15        22\n",
            "         201       0.00      0.00      0.00         2\n",
            "         202       0.00      0.00      0.00         2\n",
            "         203       0.00      0.00      0.00         3\n",
            "         204       0.00      0.00      0.00         3\n",
            "         205       0.00      0.00      0.00         2\n",
            "         206       0.00      0.00      0.00         2\n",
            "         207       0.00      0.00      0.00         1\n",
            "         208       0.00      0.00      0.00         2\n",
            "         209       0.00      0.00      0.00         8\n",
            "         210       0.00      0.00      0.00         7\n",
            "         211       0.00      0.00      0.00         2\n",
            "         212       0.00      0.00      0.00         2\n",
            "         213       0.00      0.00      0.00         2\n",
            "         214       0.00      0.00      0.00         7\n",
            "         215       0.00      0.00      0.00         4\n",
            "         216       0.00      0.00      0.00         2\n",
            "         217       0.00      0.00      0.00         2\n",
            "         218       0.00      0.00      0.00         3\n",
            "         219       0.00      0.00      0.00         2\n",
            "         220       0.00      0.00      0.00         6\n",
            "         222       0.00      0.00      0.00         1\n",
            "         223       0.00      0.00      0.00         2\n",
            "         224       0.00      0.00      0.00         1\n",
            "         225       0.00      0.00      0.00         3\n",
            "         226       0.00      0.00      0.00         1\n",
            "         227       0.00      0.00      0.00         2\n",
            "         228       0.00      0.00      0.00         4\n",
            "         229       0.00      0.00      0.00        10\n",
            "         230       0.00      0.00      0.00         3\n",
            "         231       0.00      0.00      0.00         3\n",
            "         232       0.00      0.00      0.00         3\n",
            "         234       0.00      0.00      0.00         2\n",
            "         235       0.00      0.00      0.00         2\n",
            "         236       0.00      0.00      0.00         3\n",
            "         237       0.00      0.00      0.00         3\n",
            "         238       0.00      0.00      0.00         2\n",
            "         239       0.00      0.00      0.00         5\n",
            "         240       0.00      0.00      0.00         3\n",
            "         242       0.00      0.00      0.00         1\n",
            "         243       0.00      0.00      0.00         1\n",
            "         245       0.00      0.00      0.00         2\n",
            "         246       0.00      0.00      0.00         1\n",
            "         247       0.00      0.00      0.00         2\n",
            "         248       0.00      0.00      0.00         2\n",
            "         249       0.00      0.00      0.00         4\n",
            "         250       0.20      0.17      0.18        12\n",
            "         251       0.00      0.00      0.00         1\n",
            "         252       0.00      0.00      0.00         2\n",
            "         253       0.00      0.00      0.00         1\n",
            "         254       0.00      0.00      0.00         2\n",
            "         255       0.00      0.00      0.00         1\n",
            "         256       0.00      0.00      0.00         2\n",
            "         257       0.00      0.00      0.00         3\n",
            "         258       0.00      0.00      0.00         2\n",
            "         259       0.00      0.00      0.00         1\n",
            "         260       0.00      0.00      0.00         2\n",
            "         261       0.00      0.00      0.00         3\n",
            "         262       0.00      0.00      0.00         1\n",
            "         263       0.00      0.00      0.00         5\n",
            "         264       0.00      0.00      0.00         4\n",
            "         265       0.00      0.00      0.00         2\n",
            "         266       0.00      0.00      0.00         1\n",
            "         267       0.00      0.00      0.00         1\n",
            "         268       0.00      0.00      0.00         2\n",
            "         269       0.00      0.00      0.00         2\n",
            "         270       0.00      0.00      0.00         5\n",
            "         272       0.00      0.00      0.00         3\n",
            "         273       0.00      0.00      0.00         1\n",
            "         274       0.00      0.00      0.00         1\n",
            "         275       0.00      0.00      0.00         2\n",
            "         276       0.00      0.00      0.00         2\n",
            "         277       0.00      0.00      0.00         1\n",
            "         278       0.00      0.00      0.00         1\n",
            "         279       0.00      0.00      0.00         2\n",
            "         280       0.00      0.00      0.00         1\n",
            "         282       0.00      0.00      0.00         2\n",
            "         283       0.00      0.00      0.00         2\n",
            "         284       0.00      0.00      0.00         1\n",
            "         285       0.16      0.81      0.26        16\n",
            "         289       0.00      0.00      0.00         2\n",
            "         290       0.00      0.00      0.00         2\n",
            "         293       0.00      0.00      0.00         3\n",
            "         294       0.00      0.00      0.00         1\n",
            "         295       0.00      0.00      0.00         1\n",
            "         297       0.00      0.00      0.00         1\n",
            "         299       0.00      0.00      0.00         4\n",
            "         300       0.14      0.93      0.24        15\n",
            "         301       0.00      0.00      0.00         1\n",
            "         302       0.00      0.00      0.00         2\n",
            "         304       0.00      0.00      0.00         1\n",
            "         305       0.00      0.00      0.00         2\n",
            "         306       0.00      0.00      0.00         2\n",
            "         308       0.00      0.00      0.00         1\n",
            "         310       0.00      0.00      0.00         1\n",
            "         311       0.00      0.00      0.00         3\n",
            "         312       0.00      0.00      0.00         1\n",
            "         314       0.00      0.00      0.00         1\n",
            "         315       0.00      0.00      0.00         3\n",
            "         316       0.00      0.00      0.00         2\n",
            "         318       0.00      0.00      0.00         1\n",
            "         319       0.00      0.00      0.00         3\n",
            "         320       0.00      0.00      0.00         3\n",
            "         321       0.00      0.00      0.00         1\n",
            "         323       0.00      0.00      0.00         1\n",
            "         325       0.00      0.00      0.00         1\n",
            "         326       0.00      0.00      0.00         1\n",
            "         327       0.00      0.00      0.00         1\n",
            "         328       0.00      0.00      0.00         1\n",
            "         329       0.00      0.00      0.00         3\n",
            "         330       0.00      0.00      0.00         2\n",
            "         333       0.00      0.00      0.00         1\n",
            "         334       0.00      0.00      0.00         2\n",
            "         336       0.00      0.00      0.00         1\n",
            "         338       0.00      0.00      0.00         1\n",
            "         339       0.00      0.00      0.00         1\n",
            "         340       0.00      0.00      0.00         2\n",
            "         341       0.00      0.00      0.00         1\n",
            "         342       0.00      0.00      0.00         2\n",
            "         343       0.00      0.00      0.00         1\n",
            "         344       0.00      0.00      0.00         1\n",
            "         345       0.00      0.00      0.00         1\n",
            "         348       0.00      0.00      0.00         1\n",
            "         349       0.00      0.00      0.00         6\n",
            "         350       0.00      0.00      0.00         7\n",
            "         351       0.00      0.00      0.00         1\n",
            "         352       0.00      0.00      0.00         1\n",
            "         353       0.00      0.00      0.00         2\n",
            "         355       0.00      0.00      0.00         1\n",
            "         359       0.00      0.00      0.00         1\n",
            "         360       0.00      0.00      0.00         3\n",
            "         361       0.00      0.00      0.00         1\n",
            "         363       0.00      0.00      0.00         1\n",
            "         365       0.00      0.00      0.00         1\n",
            "         366       0.00      0.00      0.00         1\n",
            "         367       0.00      0.00      0.00         1\n",
            "         368       0.00      0.00      0.00         1\n",
            "         370       0.00      0.00      0.00         2\n",
            "         372       0.00      0.00      0.00         1\n",
            "         374       0.00      0.00      0.00         1\n",
            "         375       0.00      0.00      0.00         1\n",
            "         378       0.00      0.00      0.00         1\n",
            "         379       0.00      0.00      0.00         4\n",
            "         380       0.00      0.00      0.00         3\n",
            "         382       0.00      0.00      0.00         1\n",
            "         384       0.00      0.00      0.00         1\n",
            "         388       0.00      0.00      0.00         2\n",
            "         389       0.00      0.00      0.00         2\n",
            "         390       0.00      0.00      0.00         1\n",
            "         395       0.00      0.00      0.00         1\n",
            "         398       0.00      0.00      0.00         1\n",
            "         399       0.00      0.00      0.00         3\n",
            "         400       0.00      0.00      0.00         5\n",
            "         409       0.00      0.00      0.00         1\n",
            "         410       0.00      0.00      0.00         1\n",
            "         411       0.00      0.00      0.00         2\n",
            "         412       0.00      0.00      0.00         1\n",
            "         416       0.00      0.00      0.00         1\n",
            "         418       0.00      0.00      0.00         1\n",
            "         420       0.00      0.00      0.00         2\n",
            "         428       0.00      0.00      0.00         1\n",
            "         429       0.00      0.00      0.00         2\n",
            "         430       0.00      0.00      0.00         1\n",
            "         431       0.00      0.00      0.00         1\n",
            "         432       0.00      0.00      0.00         1\n",
            "         434       0.00      0.00      0.00         1\n",
            "         435       0.00      0.00      0.00        10\n",
            "         436       0.00      0.00      0.00         1\n",
            "         438       0.00      0.00      0.00         1\n",
            "         439       0.00      0.00      0.00         1\n",
            "         440       0.00      0.00      0.00         1\n",
            "         447       0.00      0.00      0.00         1\n",
            "         449       0.00      0.00      0.00         2\n",
            "         450       0.00      0.00      0.00         3\n",
            "         455       0.00      0.00      0.00         1\n",
            "         457       0.00      0.00      0.00         1\n",
            "         468       0.00      0.00      0.00         1\n",
            "         472       0.00      0.00      0.00         1\n",
            "         474       0.00      0.00      0.00         1\n",
            "         480       0.00      0.00      0.00         1\n",
            "         490       0.00      0.00      0.00         1\n",
            "         494       0.00      0.00      0.00         1\n",
            "         498       0.00      0.00      0.00         1\n",
            "         499       0.00      0.00      0.00         1\n",
            "         500       0.12      1.00      0.22        19\n",
            "         508       0.00      0.00      0.00         1\n",
            "         512       0.00      0.00      0.00         1\n",
            "         518       0.00      0.00      0.00         1\n",
            "         520       0.00      0.00      0.00         1\n",
            "         525       0.00      0.00      0.00         1\n",
            "         526       0.00      0.00      0.00         1\n",
            "         529       0.00      0.00      0.00         1\n",
            "         530       0.00      0.00      0.00         1\n",
            "         540       0.00      0.00      0.00         1\n",
            "         549       0.00      0.00      0.00         1\n",
            "         550       0.00      0.00      0.00         2\n",
            "         559       0.00      0.00      0.00         1\n",
            "         561       0.00      0.00      0.00         2\n",
            "         567       0.00      0.00      0.00         1\n",
            "         569       0.00      0.00      0.00         1\n",
            "         570       0.00      0.00      0.00         1\n",
            "         577       0.00      0.00      0.00         1\n",
            "         598       0.00      0.00      0.00         1\n",
            "         599       0.00      0.00      0.00         1\n",
            "         600       0.00      0.00      0.00         3\n",
            "         601       0.00      0.00      0.00         1\n",
            "         608       0.00      0.00      0.00         1\n",
            "         650       0.00      0.00      0.00         1\n",
            "         675       0.00      0.00      0.00         1\n",
            "         699       0.00      0.00      0.00         3\n",
            "         700       0.00      0.00      0.00         2\n",
            "         707       0.00      0.00      0.00         1\n",
            "         711       0.00      0.00      0.00         1\n",
            "         723       0.00      0.00      0.00         1\n",
            "         728       0.00      0.00      0.00         1\n",
            "         735       0.00      0.00      0.00         1\n",
            "         750       0.00      0.00      0.00         2\n",
            "         760       0.00      0.00      0.00         1\n",
            "         800       0.00      0.00      0.00         1\n",
            "         835       0.00      0.00      0.00         2\n",
            "         850       0.00      0.00      0.00         1\n",
            "         900       0.00      0.00      0.00         1\n",
            "         912       0.00      0.00      0.00         1\n",
            "         938       0.00      0.00      0.00         1\n",
            "         984       0.00      0.00      0.00         1\n",
            "        1000       0.00      0.00      0.00         5\n",
            "        1100       0.00      0.00      0.00         1\n",
            "        1140       0.00      0.00      0.00         1\n",
            "        1147       0.00      0.00      0.00         1\n",
            "        1157       0.00      0.00      0.00         1\n",
            "        1200       0.00      0.00      0.00         2\n",
            "        1499       0.00      0.00      0.00         1\n",
            "        1500       0.00      0.00      0.00         1\n",
            "        1800       0.00      0.00      0.00         1\n",
            "        2000       0.00      0.00      0.00         1\n",
            "        3000       0.00      0.00      0.00         1\n",
            "\n",
            "    accuracy                           0.18     10937\n",
            "   macro avg       0.02      0.03      0.02     10937\n",
            "weighted avg       0.14      0.18      0.13     10937\n",
            "\n"
          ]
        }
      ]
    },
    {
      "cell_type": "markdown",
      "source": [
        "### Penjelasan\n",
        "Hasil\n",
        "- Akurasi: 0.1789 (~17.89%)\n",
        "- **Precision (macro)**: 0.0187 (~1.87%)\n",
        "- **Recall (macro)**: 0.0330 (~3.30%)\n",
        "- **F1 Score (macro)**: 0.0169 (~1.69%)\n",
        "<br><br>\n",
        "\n",
        "Penjelasan Sederhana\n",
        "\n",
        "- Akurasi\n",
        "  Persentase prediksi model yang benar.  \n",
        "  ---> Dari seluruh data, hanya sekitar 17.9% yang diprediksi benar.\n",
        "\n",
        "- Precision (macro)\n",
        "  Seberapa sering model benar saat mengklaim suatu kelas.  \n",
        "  ---> Model sering salah klaim, hanya 1.87% yang benar dari semua prediksi.\n",
        "\n",
        "- Recall (macro)\n",
        "  Seberapa baik model menemukan label yang benar.  \n",
        "  ---> Dari semua label sebenarnya, hanya 3.3% yang berhasil dikenali oleh model.\n",
        "\n",
        "- F1 Score (macro)  \n",
        "  Gabungan dari precision dan recall.  \n",
        "  ---> Skor F1 yang sangat rendah (1.69%) menunjukkan model masih lemah dalam membedakan antar kelas."
      ],
      "metadata": {
        "id": "RKXPewdxDJ-R"
      }
    },
    {
      "cell_type": "markdown",
      "source": [
        "Confusion Matrix"
      ],
      "metadata": {
        "id": "LaFXSxUDKB4I"
      }
    },
    {
      "cell_type": "code",
      "source": [
        "from sklearn.metrics import confusion_matrix\n",
        "import numpy as np\n",
        "\n",
        "cm = confusion_matrix(y_true, y_pred)\n",
        "print(\"Confusion Matrix Shape:\", cm.shape)\n",
        "print(cm)"
      ],
      "metadata": {
        "id": "N2YP_V7dKDDy",
        "colab": {
          "base_uri": "https://localhost:8080/"
        },
        "outputId": "0c8ea03d-665b-469d-9fe1-e48a42f91833"
      },
      "execution_count": null,
      "outputs": [
        {
          "output_type": "stream",
          "name": "stdout",
          "text": [
            "Confusion Matrix Shape: (436, 436)\n",
            "[[185 288   0 ...   0   0   0]\n",
            " [ 51 771   0 ...   0   0   0]\n",
            " [ 13 102   0 ...   0   0   0]\n",
            " ...\n",
            " [  0   0   0 ...   0   0   0]\n",
            " [  0   0   0 ...   0   0   0]\n",
            " [  0   0   0 ...   0   0   0]]\n"
          ]
        }
      ]
    },
    {
      "cell_type": "code",
      "source": [
        "import matplotlib.pyplot as plt\n",
        "import seaborn as sns\n",
        "from sklearn.metrics import confusion_matrix\n",
        "import numpy as np\n",
        "from sklearn.preprocessing import LabelEncoder\n",
        "\n",
        "# Hitung total kemunculan tiap kelas\n",
        "unique, counts = np.unique(y_true, return_counts=True)\n",
        "class_counts = dict(zip(unique, counts))\n",
        "\n",
        "# Ambil 10 kelas dengan jumlah kemunculan terbanyak\n",
        "top_classes = sorted(class_counts, key=class_counts.get, reverse=True)[:10]\n",
        "\n",
        "# Filter hanya data yang y_true-nya termasuk top_classes\n",
        "mask = np.isin(y_true, top_classes)\n",
        "y_true_top = np.array(y_true)[mask]\n",
        "y_pred_top = np.array(y_pred)[mask]\n",
        "\n",
        "# Filter prediksi agar hanya yang termasuk dalam top_classes\n",
        "mask_pred = np.isin(y_pred_top, top_classes)\n",
        "y_true_top = y_true_top[mask_pred]\n",
        "y_pred_top = y_pred_top[mask_pred]\n",
        "\n",
        "# Mapping ulang label ke 0..N untuk confusion matrix\n",
        "le = LabelEncoder()\n",
        "le.fit(top_classes)\n",
        "y_true_enc = le.transform(y_true_top)\n",
        "y_pred_enc = le.transform(y_pred_top)\n",
        "\n",
        "# Buat confusion matrix\n",
        "cm = confusion_matrix(y_true_enc, y_pred_enc)\n",
        "\n",
        "# Visualisasi\n",
        "plt.figure(figsize=(10, 8))\n",
        "sns.heatmap(cm, annot=True, fmt='d', cmap='Blues',\n",
        "            xticklabels=le.classes_,\n",
        "            yticklabels=le.classes_)\n",
        "plt.xlabel('Predicted')\n",
        "plt.ylabel('True')\n",
        "plt.title('Confusion Matrix (Top 10 Classes)')\n",
        "plt.show()\n"
      ],
      "metadata": {
        "colab": {
          "base_uri": "https://localhost:8080/",
          "height": 718
        },
        "id": "A5g2gJSN_pHR",
        "outputId": "fd4ece2d-b627-4035-f5c7-f6969e2ca761"
      },
      "execution_count": null,
      "outputs": [
        {
          "output_type": "display_data",
          "data": {
            "text/plain": [
              "<Figure size 1000x800 with 2 Axes>"
            ],
            "image/png": "[encoded data removed]"
          },
          "metadata": {}
        }
      ]
    },
    {
      "cell_type": "markdown",
      "source": [
        "ROC AUC Score"
      ],
      "metadata": {
        "id": "4HoMg_-qKFZ_"
      }
    },
    {
      "cell_type": "code",
      "source": [
        "from sklearn.metrics import roc_auc_score\n",
        "from sklearn.preprocessing import label_binarize\n",
        "import numpy as np\n",
        "\n",
        "# Ambil hanya kelas yang muncul di y_true\n",
        "classes_in_true = np.unique(y_true)\n",
        "print(\"Jumlah kelas aktif:\", len(classes_in_true))\n",
        "\n",
        "# Binarisasi label\n",
        "y_true_bin = label_binarize(y_true, classes=classes_in_true)\n",
        "\n",
        "# Filter probabilitas hanya untuk kelas yang muncul\n",
        "y_prob_reduced = y_prob[:, classes_in_true]\n",
        "\n",
        "# Hitung ROC AUC macro\n",
        "try:\n",
        "    roc_auc = roc_auc_score(y_true_bin, y_prob_reduced, average='macro', multi_class='ovr')\n",
        "    print(\"ROC AUC (macro, OvR, filtered classes):\", roc_auc)\n",
        "except ValueError as e:\n",
        "    print(\"Gagal menghitung ROC AUC:\", e)\n"
      ],
      "metadata": {
        "colab": {
          "base_uri": "https://localhost:8080/"
        },
        "id": "3zrQIsyfAP6s",
        "outputId": "6e7a8dda-3474-44a3-a1b8-ed8748cb98e1"
      },
      "execution_count": null,
      "outputs": [
        {
          "output_type": "stream",
          "name": "stdout",
          "text": [
            "Jumlah kelas aktif: 436\n",
            "ROC AUC (macro, OvR, filtered classes): 0.96396226336935\n"
          ]
        }
      ]
    },
    {
      "cell_type": "code",
      "source": [
        "import matplotlib.pyplot as plt\n",
        "\n",
        "plt.hist(np.max(y_prob, axis=1), bins=30)\n",
        "plt.title(\"Confidence Distribution of Predicted Classes\")\n",
        "plt.xlabel(\"Max predicted probability per sample\")\n",
        "plt.ylabel(\"Count\")\n",
        "plt.show()\n"
      ],
      "metadata": {
        "colab": {
          "base_uri": "https://localhost:8080/",
          "height": 472
        },
        "id": "6l3XE5-CASxg",
        "outputId": "25c1dc5a-5b47-4b4b-a479-462167361833"
      },
      "execution_count": null,
      "outputs": [
        {
          "output_type": "display_data",
          "data": {
            "text/plain": [
              "<Figure size 640x480 with 1 Axes>"
            ],
            "image/png": "[encoded data removed]"
          },
          "metadata": {}
        }
      ]
    },
    {
      "cell_type": "markdown",
      "source": [
        "### Penjelasan\n",
        "\n",
        "Nilai ROC AUC (macro, OvR) setelah difilter ke kelas-kelas yang benar-benar muncul dalam data adalah **0.964**.\n",
        "\n",
        "- ROC AUC (Receiver Operating Characteristic - Area Under Curve) mengukur seberapa baik model membedakan antar kelas.\n",
        "- Macro average berarti menghitung rata-rata skor ROC AUC untuk setiap kelas, tanpa mempertimbangkan jumlah sampel di tiap kelas.\n",
        "- OvR (One-vs-Rest) mengacu pada pendekatan menghitung ROC AUC untuk tiap kelas dengan menganggapnya sebagai kelas positif, dan sisanya sebagai negatif.\n",
        "<br><br>\n",
        "\n",
        "Interpretasi:\n",
        "\n",
        "- Skor mendekati 1 berarti model memiliki kemampuan diskriminasi yang baik.\n",
        "- Meskipun akurasi dan metrik lain tampak rendah, ROC AUC yang tinggi menunjukkan bahwa model mampu memberi probabilitas prediksi yang cukup baik, hanya saja threshold atau klasifikasi akhirnya belum optimal.\n"
      ],
      "metadata": {
        "id": "LIpY3xVLES2E"
      }
    },
    {
      "cell_type": "markdown",
      "source": [
        "## Evaluasi Kinerja Model Multi-Class\n",
        "\n",
        "Model memiliki 436 kelas aktif dan hasil evaluasi ROC AUC (macro, OvR) mencapai 0.96. Ini adalah metrik yang sangat baik dalam klasifikasi multi-kelas. Berikut penjelasan per metrik dan mana yang terbaik digunakan.\n",
        "<br><br>\n",
        "\n",
        "1. **Accuracy**\n",
        "Mengukur proporsi prediksi yang benar dibandingkan total prediksi.\n",
        "\n",
        "**Kelebihan:**\n",
        "- Mudah dipahami\n",
        "- Cocok jika distribusi kelas seimbang\n",
        "\n",
        "**Kekurangan:**\n",
        "- Tidak sensitif terhadap kelas minoritas\n",
        "- Bisa menipu jika dataset imbalanced\n",
        "\n",
        "**Kapan digunakan:**\n",
        "- Dataset seimbang\n",
        "- Tidak terlalu banyak kelas\n",
        "<br><br>\n",
        "\n",
        "2. **Precision / Recall / F1-Score (macro)**\n",
        "- **Precision:** Ketepatan prediksi positif\n",
        "- **Recall:** Kemampuan model menangkap seluruh label yang benar\n",
        "- **F1-score:** Harmonik dari precision dan recall\n",
        "- **Macro average:** Rata-rata metrik per kelas (tanpa memperhitungkan jumlah sampel)\n",
        "\n",
        "**Kelebihan:**\n",
        "- Cocok untuk multi-class dan dataset imbalance\n",
        "- F1-score mempertimbangkan precision dan recall\n",
        "\n",
        "**Kapan digunakan:**\n",
        "- Saat penting untuk menilai performa semua kelas secara setara\n",
        "- Ada risiko ketimpangan distribusi antar kelas\n",
        "<br><br>\n",
        "\n",
        "3. **ROC AUC (macro, OvR - One vs Rest)**\n",
        "Mengukur kualitas pemisahan antara kelas yang benar dan salah dalam bentuk probabilitas.\n",
        "\n",
        "**Kelebihan:**\n",
        "- Memberi gambaran seberapa \"yakin\" model dalam prediksi probabilistik\n",
        "- Cocok untuk multi-class (One-vs-Rest)\n",
        "- Tidak tergantung pada threshold prediksi\n",
        "\n",
        "**Kapan digunakan:**\n",
        "- Model menghasilkan skor probabilitas (bukan hanya argmax label)\n",
        "- Ingin mengevaluasi kualitas pemisahan probabilitas antar kelas\n",
        "<br><br>\n",
        "\n",
        "**Kesimpulan Matriks Terbaik**\n",
        "\n",
        "| Metrik           | Cocok untuk multi-class | Memperhatikan distribusi | Gunakan jika                          |\n",
        "|------------------|--------------------------|---------------------------|---------------------------------------|\n",
        "| Accuracy         | Ya                       | Tidak                     | Dataset seimbang                      |\n",
        "| Precision/Recall/F1 (macro) | Ya            | Ya                        | Dataset imbalanced / banyak kelas     |\n",
        "| ROC AUC (macro)  | Ya                       | Ya                        | Model memberikan probabilitas, banyak kelas |\n",
        "\n",
        "**Dalam kasus ini:**  \n",
        "Karena:\n",
        "- Jumlah kelas sangat banyak (436)\n",
        "- Distribusi kelas kemungkinan besar tidak seimbang\n",
        "- Model menghasilkan output probabilitas (softmax)\n",
        "\n",
        "**Maka metrik terbaik untuk evaluasi adalah: ROC AUC (macro, OvR)**\n",
        "\n",
        "Dengan skor 0.96, model memiliki kualitas pemisahan kelas yang sangat baik meskipun akurasi kasar masih rendah."
      ],
      "metadata": {
        "id": "gCjEILYmCgMS"
      }
    },
    {
      "cell_type": "markdown",
      "source": [
        "### Evaluasi dan Perbandingan Model\n",
        "\n",
        "1. **Akurasi**  \n",
        "Mengukur proporsi prediksi yang benar dibandingkan total prediksi.\n",
        "\n",
        "- **Nilai:** 0.179  \n",
        "- **Interpretasi:** Model hanya benar sekitar 17.9% dari seluruh prediksi. Ini tergolong rendah, apalagi jika jumlah kelas sangat banyak (436 kelas), sehingga prediksi acak pun bisa mendekati nilai ini.\n",
        "<br><br>\n",
        "\n",
        "2. **Precision (Macro Average)**  \n",
        "Mengukur rata-rata ketepatan prediksi untuk setiap kelas, tanpa memperhatikan distribusi jumlah sampel per kelas.\n",
        "\n",
        "- **Nilai:** 0.019  \n",
        "- **Interpretasi:** Hanya sekitar 1.9% dari seluruh prediksi tiap kelas yang benar. Artinya, banyak prediksi salah sasaran.\n",
        "<br><br>\n",
        "\n",
        "3. **Recall (Macro Average)**  \n",
        "Mengukur rata-rata kemampuan model untuk menemukan semua data positif dari setiap kelas.\n",
        "\n",
        "- **Nilai:** 0.033  \n",
        "- **Interpretasi:** Model hanya bisa mengenali sekitar 3.3% dari total data benar untuk setiap kelas. Kemampuan deteksi masih sangat terbatas.\n",
        "<br><br>\n",
        "\n",
        "4. **F1 Score (Macro Average)**  \n",
        "Harmonic mean dari Precision dan Recall. Menggambarkan keseimbangan antara keduanya.\n",
        "\n",
        "- **Nilai:** 0.017  \n",
        "- **Interpretasi:** Skor F1 rendah menunjukkan bahwa baik precision maupun recall masih belum optimal.\n",
        "<br><br>\n",
        "\n",
        "5. **ROC AUC (Macro, One-vs-Rest, Filtered Classes)**  \n",
        "Mengukur kemampuan model dalam membedakan antara satu kelas dengan lainnya, berdasarkan probabilitas prediksi.\n",
        "\n",
        "- **Nilai:** 0.964  \n",
        "- **Interpretasi:** Skor tinggi ini menunjukkan bahwa meskipun model sering salah dalam membuat keputusan akhir (kelas mana yang dipilih), probabilitas yang dihasilkannya cukup bagus dalam mengindikasikan kelas yang benar. Ini bisa dimanfaatkan untuk perbaikan threshold atau pengambilan keputusan berbasis probabilitas.\n",
        "<br>\n",
        "\n",
        "Kesimpulan:\n",
        "\n",
        "Dalam kasus ini, **hanya satu model** yang digunakan (MLPClassifier) dan semua metrik di atas mengevaluasi performa model tersebut.\n",
        "\n",
        "- **Model secara umum memiliki performa klasifikasi yang masih rendah** (akurasi dan f1 score rendah), terutama karena jumlah kelas sangat banyak (436 kelas) dan mungkin data tidak seimbang.\n",
        "- Namun, **ROC AUC menunjukkan potensi model**—model dapat membedakan antar kelas dengan baik berdasarkan probabilitas, walaupun keputusan akhirnya belum tepat."
      ],
      "metadata": {
        "id": "gJGNW_FaE5lU"
      }
    }
  ]
}